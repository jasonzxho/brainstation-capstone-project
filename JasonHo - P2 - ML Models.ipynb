{
 "cells": [
  {
   "cell_type": "markdown",
   "metadata": {},
   "source": [
    "# Capstone Project: Toronto BikeShare\n",
    "## Part 2: Machine Learning Models\n",
    "---\n",
    "Jason Ho<br>\n",
    "December 5th, 2020"
   ]
  },
  {
   "cell_type": "markdown",
   "metadata": {},
   "source": [
    "In this notebook we will be creating some Machine Learning models on the cleaned dataset to see if we can answer the question of whether we can predict if a bikeshare user is going to bring the bike back late. Before we select and fit models, we will need to do some data wrangling on the dataset and then create a binary classifier for our dependent variable.\n",
    "\n",
    "Please load the environment created specifically for this capstone project before moving ahead.\n",
    "\n",
    "Resources that I had consulted regarding various code used below are follows:<br>\n",
    "https://python-graph-gallery.com/<br>\n",
    "https://stackoverflow.com/<br>\n",
    "\n",
    "Other links would be referenced later on in the notebook as well."
   ]
  },
  {
   "cell_type": "code",
   "execution_count": 182,
   "metadata": {
    "execution": {
     "iopub.execute_input": "2020-12-20T06:17:10.489210Z",
     "iopub.status.busy": "2020-12-20T06:17:10.488942Z",
     "iopub.status.idle": "2020-12-20T06:17:10.494946Z",
     "shell.execute_reply": "2020-12-20T06:17:10.493996Z",
     "shell.execute_reply.started": "2020-12-20T06:17:10.489184Z"
    }
   },
   "outputs": [],
   "source": [
    "# Import packages\n",
    "import numpy as np\n",
    "import matplotlib.pyplot as plt\n",
    "import pandas as pd\n",
    "import seaborn as sns\n",
    "\n",
    "# Timer\n",
    "from tqdm import tqdm\n",
    "import time\n",
    "\n",
    "# Train/Test Splitter\n",
    "from sklearn.model_selection import train_test_split\n",
    "\n",
    "# Scalars\n",
    "from sklearn.preprocessing import StandardScaler\n",
    "from sklearn.preprocessing import MinMaxScaler\n",
    "from sklearn.preprocessing import RobustScaler\n",
    "\n",
    "# Classifiers \n",
    "from sklearn.linear_model import LogisticRegression\n",
    "from sklearn.tree import DecisionTreeClassifier\n",
    "from sklearn.svm import SVC\n",
    "\n",
    "# Decomposition\n",
    "from sklearn.decomposition import PCA\n",
    "\n",
    "# Hide warnings that appear when we use logistic regression without updating Scikit-learn\n",
    "import warnings\n",
    "warnings.filterwarnings('ignore')\n",
    "\n",
    "from sklearn.model_selection import cross_val_score"
   ]
  },
  {
   "cell_type": "markdown",
   "metadata": {},
   "source": [
    "## Table of Contents\n",
    "[Data Dictionary](#Data-Dictionary)<br>\n",
    "\n",
    "[Data Cleaning](#Data-Cleaning)<br>\n",
    "\n",
    "[Data Wrangling](#Data-Wrangling)<br>\n",
    "\n",
    "[Machine Learning Modelling](#Machine-Learning-Modelling)<br>\n",
    "- [Undersample the Data](#Undersample-the-Data)<br>\n",
    "- [Scaling the Data](#Scaling-the-Data)<br>\n",
    "- [Removing Multicollinearity](#Removing-Multicollinearity)<br>\n",
    "- [Retesting the Model](#Retesting-the-Model)<br>\n",
    "\n",
    "[Summary & Next Steps](#Summary-&-Next-Steps)"
   ]
  },
  {
   "cell_type": "markdown",
   "metadata": {},
   "source": [
    "## Data Dictionary\n",
    "\n",
    "- `Trip Id`: Unique ID code for individual trip taken.\n",
    "- `Subscription Id`: Unique ID code for the individual member, this can be used to track Annual Member usage\n",
    "- `Bike Id`: Unique ID for the individual bike used\n",
    "- `Start Time`: Trip start time\n",
    "- `Start Station Id`: Unique ID code for the start station\n",
    "- `Start Station Name`: Name of the start station\n",
    "- `Start Station Latitude`: Latitude coordinates ofthe  start station\n",
    "- `Start Station Longitude`: Longitude coordinates of the start station\n",
    "- `Start Station Elevation`: Elevation in meters for the start station\n",
    "- `Start Station Capacity`: Bike dock capacity for the start station\n",
    "- `Start Station Accepts Credit Card`: Binary classifier for whether the station accepts credit card payments\n",
    "- `Start Station FSA`: Forward Sortation Area for where the start station is located\n",
    "- `End Time`: Trip end time.\n",
    "- `End Station Id`: Unique ID code for the end station.\n",
    "- `End Station Name`: Name of the end station.\n",
    "- `End Station Latitude`: Latitude coordinates of the end station\n",
    "- `End Station Longitude`: Longitude coordinates of the end station\n",
    "- `End Station Elevation`: Elevation in meters for the end station\n",
    "- `End Station Capacity`: Bike dock capacity for the end station\n",
    "- `End Station Accepts Credit Card`: Binary classifier for whether the end station accepts credit card payments\n",
    "- `End Station FSA`: Forward Sortation Area for where the end station is located\n",
    "- `Trip Duration Minutes`: Duration of the trip in minutes.\n",
    "- `Is Member`: Binary classifier for whether the user is an annual member\n",
    "- `Temp (°C)`: Temperature in Celsius at the start of the trip\n",
    "- `Rel Hum (%)`: Relative Humdity at the start of the trip\n",
    "- `Wind Spd (km/h)`: Wind speed in km/h at the start of the trip"
   ]
  },
  {
   "cell_type": "markdown",
   "metadata": {},
   "source": [
    "## Data Cleaning"
   ]
  },
  {
   "cell_type": "markdown",
   "metadata": {},
   "source": [
    "Back to [Table of Contents](#Table-of-Contents).<br>"
   ]
  },
  {
   "cell_type": "markdown",
   "metadata": {},
   "source": [
    "I decided to just use the dataset with 2019 and 2020 trips which I created in my last notebook as it contains 2 more features `Subscription Id` and `Bike Id` which may help in my machine learning model."
   ]
  },
  {
   "cell_type": "code",
   "execution_count": 2,
   "metadata": {
    "execution": {
     "iopub.execute_input": "2020-12-20T03:23:42.439300Z",
     "iopub.status.busy": "2020-12-20T03:23:42.438961Z",
     "iopub.status.idle": "2020-12-20T03:24:03.912974Z",
     "shell.execute_reply": "2020-12-20T03:24:03.912211Z",
     "shell.execute_reply.started": "2020-12-20T03:23:42.439257Z"
    }
   },
   "outputs": [],
   "source": [
    "# Load Dataset \n",
    "df = pd.read_csv('data/master_df2.csv')"
   ]
  },
  {
   "cell_type": "code",
   "execution_count": 3,
   "metadata": {
    "execution": {
     "iopub.execute_input": "2020-12-20T03:24:03.914963Z",
     "iopub.status.busy": "2020-12-20T03:24:03.914750Z",
     "iopub.status.idle": "2020-12-20T03:24:03.958723Z",
     "shell.execute_reply": "2020-12-20T03:24:03.958047Z",
     "shell.execute_reply.started": "2020-12-20T03:24:03.914939Z"
    }
   },
   "outputs": [
    {
     "data": {
      "text/html": [
       "<div>\n",
       "<style scoped>\n",
       "    .dataframe tbody tr th:only-of-type {\n",
       "        vertical-align: middle;\n",
       "    }\n",
       "\n",
       "    .dataframe tbody tr th {\n",
       "        vertical-align: top;\n",
       "    }\n",
       "\n",
       "    .dataframe thead th {\n",
       "        text-align: right;\n",
       "    }\n",
       "</style>\n",
       "<table border=\"1\" class=\"dataframe\">\n",
       "  <thead>\n",
       "    <tr style=\"text-align: right;\">\n",
       "      <th></th>\n",
       "      <th>Unnamed: 0</th>\n",
       "      <th>Trip Id</th>\n",
       "      <th>Subscription Id</th>\n",
       "      <th>Bike Id</th>\n",
       "      <th>Start Time</th>\n",
       "      <th>Start Station Id</th>\n",
       "      <th>Start Station Name</th>\n",
       "      <th>Start Station Latitude</th>\n",
       "      <th>Start Station Longitude</th>\n",
       "      <th>Start Station Elevation</th>\n",
       "      <th>...</th>\n",
       "      <th>End Station Longitude</th>\n",
       "      <th>End Station Elevation</th>\n",
       "      <th>End Station Capacity</th>\n",
       "      <th>End Station Accepts Credit Card</th>\n",
       "      <th>End Station FSA</th>\n",
       "      <th>Trip Duration Minutes</th>\n",
       "      <th>Is Member</th>\n",
       "      <th>Temp (°C)</th>\n",
       "      <th>Rel Hum (%)</th>\n",
       "      <th>Wind Spd (km/h)</th>\n",
       "    </tr>\n",
       "  </thead>\n",
       "  <tbody>\n",
       "    <tr>\n",
       "      <th>0</th>\n",
       "      <td>0</td>\n",
       "      <td>4581278</td>\n",
       "      <td>199751</td>\n",
       "      <td>1296</td>\n",
       "      <td>2019-01-01 00:08:00</td>\n",
       "      <td>7021</td>\n",
       "      <td>Bay St / Albert St</td>\n",
       "      <td>43.653264</td>\n",
       "      <td>-79.382458</td>\n",
       "      <td>107.0</td>\n",
       "      <td>...</td>\n",
       "      <td>-79.431734</td>\n",
       "      <td>97.0</td>\n",
       "      <td>16.0</td>\n",
       "      <td>0.0</td>\n",
       "      <td>M6K</td>\n",
       "      <td>26</td>\n",
       "      <td>1</td>\n",
       "      <td>4.3</td>\n",
       "      <td>98.0</td>\n",
       "      <td>11.0</td>\n",
       "    </tr>\n",
       "    <tr>\n",
       "      <th>1</th>\n",
       "      <td>1</td>\n",
       "      <td>4581279</td>\n",
       "      <td>294730</td>\n",
       "      <td>2947</td>\n",
       "      <td>2019-01-01 00:10:00</td>\n",
       "      <td>7160</td>\n",
       "      <td>King St W / Tecumseth St</td>\n",
       "      <td>43.643333</td>\n",
       "      <td>-79.405556</td>\n",
       "      <td>89.0</td>\n",
       "      <td>...</td>\n",
       "      <td>-79.375091</td>\n",
       "      <td>90.0</td>\n",
       "      <td>19.0</td>\n",
       "      <td>1.0</td>\n",
       "      <td>M5B</td>\n",
       "      <td>19</td>\n",
       "      <td>1</td>\n",
       "      <td>4.3</td>\n",
       "      <td>98.0</td>\n",
       "      <td>11.0</td>\n",
       "    </tr>\n",
       "    <tr>\n",
       "      <th>2</th>\n",
       "      <td>2</td>\n",
       "      <td>4581280</td>\n",
       "      <td>197252</td>\n",
       "      <td>2293</td>\n",
       "      <td>2019-01-01 00:15:00</td>\n",
       "      <td>7055</td>\n",
       "      <td>Jarvis St / Carlton St</td>\n",
       "      <td>43.662070</td>\n",
       "      <td>-79.376170</td>\n",
       "      <td>103.0</td>\n",
       "      <td>...</td>\n",
       "      <td>-79.375274</td>\n",
       "      <td>83.0</td>\n",
       "      <td>19.0</td>\n",
       "      <td>1.0</td>\n",
       "      <td>M5E</td>\n",
       "      <td>10</td>\n",
       "      <td>1</td>\n",
       "      <td>4.3</td>\n",
       "      <td>98.0</td>\n",
       "      <td>11.0</td>\n",
       "    </tr>\n",
       "    <tr>\n",
       "      <th>3</th>\n",
       "      <td>3</td>\n",
       "      <td>4581281</td>\n",
       "      <td>171700</td>\n",
       "      <td>283</td>\n",
       "      <td>2019-01-01 00:16:00</td>\n",
       "      <td>7012</td>\n",
       "      <td>Elizabeth St / Edward St (Bus Terminal)</td>\n",
       "      <td>43.656026</td>\n",
       "      <td>-79.385327</td>\n",
       "      <td>92.0</td>\n",
       "      <td>...</td>\n",
       "      <td>-79.385655</td>\n",
       "      <td>115.0</td>\n",
       "      <td>12.0</td>\n",
       "      <td>0.0</td>\n",
       "      <td>M5G</td>\n",
       "      <td>4</td>\n",
       "      <td>1</td>\n",
       "      <td>4.3</td>\n",
       "      <td>98.0</td>\n",
       "      <td>11.0</td>\n",
       "    </tr>\n",
       "    <tr>\n",
       "      <th>4</th>\n",
       "      <td>4</td>\n",
       "      <td>4581282</td>\n",
       "      <td>306314</td>\n",
       "      <td>1799</td>\n",
       "      <td>2019-01-01 00:19:00</td>\n",
       "      <td>7041</td>\n",
       "      <td>Edward St / Yonge St</td>\n",
       "      <td>43.656729</td>\n",
       "      <td>-79.382736</td>\n",
       "      <td>103.0</td>\n",
       "      <td>...</td>\n",
       "      <td>-79.389531</td>\n",
       "      <td>115.0</td>\n",
       "      <td>19.0</td>\n",
       "      <td>1.0</td>\n",
       "      <td>M5T</td>\n",
       "      <td>5</td>\n",
       "      <td>1</td>\n",
       "      <td>4.3</td>\n",
       "      <td>98.0</td>\n",
       "      <td>11.0</td>\n",
       "    </tr>\n",
       "  </tbody>\n",
       "</table>\n",
       "<p>5 rows × 27 columns</p>\n",
       "</div>"
      ],
      "text/plain": [
       "   Unnamed: 0  Trip Id  Subscription Id  Bike Id           Start Time  \\\n",
       "0           0  4581278           199751     1296  2019-01-01 00:08:00   \n",
       "1           1  4581279           294730     2947  2019-01-01 00:10:00   \n",
       "2           2  4581280           197252     2293  2019-01-01 00:15:00   \n",
       "3           3  4581281           171700      283  2019-01-01 00:16:00   \n",
       "4           4  4581282           306314     1799  2019-01-01 00:19:00   \n",
       "\n",
       "   Start Station Id                       Start Station Name  \\\n",
       "0              7021                       Bay St / Albert St   \n",
       "1              7160                 King St W / Tecumseth St   \n",
       "2              7055                   Jarvis St / Carlton St   \n",
       "3              7012  Elizabeth St / Edward St (Bus Terminal)   \n",
       "4              7041                     Edward St / Yonge St   \n",
       "\n",
       "   Start Station Latitude  Start Station Longitude  Start Station Elevation  \\\n",
       "0               43.653264               -79.382458                    107.0   \n",
       "1               43.643333               -79.405556                     89.0   \n",
       "2               43.662070               -79.376170                    103.0   \n",
       "3               43.656026               -79.385327                     92.0   \n",
       "4               43.656729               -79.382736                    103.0   \n",
       "\n",
       "   ...  End Station Longitude  End Station Elevation End Station Capacity  \\\n",
       "0  ...             -79.431734                   97.0                 16.0   \n",
       "1  ...             -79.375091                   90.0                 19.0   \n",
       "2  ...             -79.375274                   83.0                 19.0   \n",
       "3  ...             -79.385655                  115.0                 12.0   \n",
       "4  ...             -79.389531                  115.0                 19.0   \n",
       "\n",
       "  End Station Accepts Credit Card  End Station FSA Trip Duration Minutes  \\\n",
       "0                             0.0              M6K                    26   \n",
       "1                             1.0              M5B                    19   \n",
       "2                             1.0              M5E                    10   \n",
       "3                             0.0              M5G                     4   \n",
       "4                             1.0              M5T                     5   \n",
       "\n",
       "   Is Member  Temp (°C)  Rel Hum (%)  Wind Spd (km/h)  \n",
       "0          1        4.3         98.0             11.0  \n",
       "1          1        4.3         98.0             11.0  \n",
       "2          1        4.3         98.0             11.0  \n",
       "3          1        4.3         98.0             11.0  \n",
       "4          1        4.3         98.0             11.0  \n",
       "\n",
       "[5 rows x 27 columns]"
      ]
     },
     "execution_count": 3,
     "metadata": {},
     "output_type": "execute_result"
    }
   ],
   "source": [
    "# View Dataset\n",
    "df.head()"
   ]
  },
  {
   "cell_type": "code",
   "execution_count": 4,
   "metadata": {
    "execution": {
     "iopub.execute_input": "2020-12-20T03:24:03.960631Z",
     "iopub.status.busy": "2020-12-20T03:24:03.960162Z",
     "iopub.status.idle": "2020-12-20T03:24:04.924474Z",
     "shell.execute_reply": "2020-12-20T03:24:04.923456Z",
     "shell.execute_reply.started": "2020-12-20T03:24:03.960598Z"
    }
   },
   "outputs": [],
   "source": [
    "# Drop duplicate index column\n",
    "df.drop(['Unnamed: 0'], axis=1, inplace=True)"
   ]
  },
  {
   "cell_type": "code",
   "execution_count": 5,
   "metadata": {
    "execution": {
     "iopub.execute_input": "2020-12-20T03:24:04.926751Z",
     "iopub.status.busy": "2020-12-20T03:24:04.926199Z",
     "iopub.status.idle": "2020-12-20T03:24:07.942705Z",
     "shell.execute_reply": "2020-12-20T03:24:07.941569Z",
     "shell.execute_reply.started": "2020-12-20T03:24:04.926716Z"
    }
   },
   "outputs": [
    {
     "name": "stdout",
     "output_type": "stream",
     "text": [
      "Total Number of Null values:\n",
      "\n",
      "Trip Id                              0\n",
      "Subscription Id                      0\n",
      "Bike Id                              0\n",
      "Start Time                           0\n",
      "Start Station Id                     0\n",
      "Start Station Name                   0\n",
      "Start Station Latitude               0\n",
      "Start Station Longitude              0\n",
      "Start Station Elevation              0\n",
      "Start Station Capacity               0\n",
      "Start Station Accepts Credit Card    0\n",
      "Start Station FSA                    0\n",
      "End Time                             0\n",
      "End Station Id                       0\n",
      "End Station Name                     0\n",
      "End Station Latitude                 0\n",
      "End Station Longitude                0\n",
      "End Station Elevation                0\n",
      "End Station Capacity                 0\n",
      "End Station Accepts Credit Card      0\n",
      "End Station FSA                      0\n",
      "Trip Duration Minutes                0\n",
      "Is Member                            0\n",
      "Temp (°C)                            0\n",
      "Rel Hum (%)                          0\n",
      "Wind Spd (km/h)                      0\n",
      "dtype: int64\n",
      "\n",
      "----------------------------------------\n",
      "\n",
      "Total Percentage of Null values:\n",
      "\n",
      "Trip Id                              0.0\n",
      "Subscription Id                      0.0\n",
      "Bike Id                              0.0\n",
      "Start Time                           0.0\n",
      "Start Station Id                     0.0\n",
      "Start Station Name                   0.0\n",
      "Start Station Latitude               0.0\n",
      "Start Station Longitude              0.0\n",
      "Start Station Elevation              0.0\n",
      "Start Station Capacity               0.0\n",
      "Start Station Accepts Credit Card    0.0\n",
      "Start Station FSA                    0.0\n",
      "End Time                             0.0\n",
      "End Station Id                       0.0\n",
      "End Station Name                     0.0\n",
      "End Station Latitude                 0.0\n",
      "End Station Longitude                0.0\n",
      "End Station Elevation                0.0\n",
      "End Station Capacity                 0.0\n",
      "End Station Accepts Credit Card      0.0\n",
      "End Station FSA                      0.0\n",
      "Trip Duration Minutes                0.0\n",
      "Is Member                            0.0\n",
      "Temp (°C)                            0.0\n",
      "Rel Hum (%)                          0.0\n",
      "Wind Spd (km/h)                      0.0\n",
      "dtype: float64\n"
     ]
    }
   ],
   "source": [
    "# Check for null values\n",
    "print(f'Total Number of Null values:\\n\\n{df.isna().sum()}')\n",
    "print('\\n----------------------------------------\\n')\n",
    "print(f'Total Percentage of Null values:\\n\\n{df.isna().mean()*100}')"
   ]
  },
  {
   "cell_type": "code",
   "execution_count": 6,
   "metadata": {
    "execution": {
     "iopub.execute_input": "2020-12-20T03:24:07.945764Z",
     "iopub.status.busy": "2020-12-20T03:24:07.945370Z",
     "iopub.status.idle": "2020-12-20T03:24:07.955810Z",
     "shell.execute_reply": "2020-12-20T03:24:07.954627Z",
     "shell.execute_reply.started": "2020-12-20T03:24:07.945732Z"
    }
   },
   "outputs": [
    {
     "data": {
      "text/plain": [
       "Trip Id                                int64\n",
       "Subscription Id                        int64\n",
       "Bike Id                                int64\n",
       "Start Time                            object\n",
       "Start Station Id                       int64\n",
       "Start Station Name                    object\n",
       "Start Station Latitude               float64\n",
       "Start Station Longitude              float64\n",
       "Start Station Elevation              float64\n",
       "Start Station Capacity               float64\n",
       "Start Station Accepts Credit Card    float64\n",
       "Start Station FSA                     object\n",
       "End Time                              object\n",
       "End Station Id                         int64\n",
       "End Station Name                      object\n",
       "End Station Latitude                 float64\n",
       "End Station Longitude                float64\n",
       "End Station Elevation                float64\n",
       "End Station Capacity                 float64\n",
       "End Station Accepts Credit Card      float64\n",
       "End Station FSA                       object\n",
       "Trip Duration Minutes                  int64\n",
       "Is Member                              int64\n",
       "Temp (°C)                            float64\n",
       "Rel Hum (%)                          float64\n",
       "Wind Spd (km/h)                      float64\n",
       "dtype: object"
      ]
     },
     "execution_count": 6,
     "metadata": {},
     "output_type": "execute_result"
    }
   ],
   "source": [
    "# Datatype check\n",
    "df.dtypes"
   ]
  },
  {
   "cell_type": "markdown",
   "metadata": {},
   "source": [
    "- `Capacity`, `Accepts Credit Card` for Start and End Station can be changed from float64 to int64\n",
    "- `Start Time` and `End Time` need to be converted from object to datetime"
   ]
  },
  {
   "cell_type": "code",
   "execution_count": 7,
   "metadata": {
    "execution": {
     "iopub.execute_input": "2020-12-20T03:24:07.958599Z",
     "iopub.status.busy": "2020-12-20T03:24:07.958037Z",
     "iopub.status.idle": "2020-12-20T03:24:12.462264Z",
     "shell.execute_reply": "2020-12-20T03:24:12.461483Z",
     "shell.execute_reply.started": "2020-12-20T03:24:07.958528Z"
    }
   },
   "outputs": [],
   "source": [
    "# Change dtypes\n",
    "df['Start Station Capacity'] = df['Start Station Capacity'].astype(int)\n",
    "df['Start Station Accepts Credit Card'] = df['Start Station Accepts Credit Card'].astype(int)\n",
    "df['End Station Capacity'] = df['End Station Capacity'].astype(int)\n",
    "df['End Station Accepts Credit Card'] = df['End Station Accepts Credit Card'].astype(int)\n",
    "df['Start Time'] = pd.to_datetime(df['Start Time'])\n",
    "df['End Time'] = pd.to_datetime(df['End Time'])"
   ]
  },
  {
   "cell_type": "code",
   "execution_count": 8,
   "metadata": {
    "execution": {
     "iopub.execute_input": "2020-12-20T03:24:12.467493Z",
     "iopub.status.busy": "2020-12-20T03:24:12.466973Z",
     "iopub.status.idle": "2020-12-20T03:24:12.478721Z",
     "shell.execute_reply": "2020-12-20T03:24:12.477137Z",
     "shell.execute_reply.started": "2020-12-20T03:24:12.467456Z"
    }
   },
   "outputs": [
    {
     "data": {
      "text/plain": [
       "Trip Id                                       int64\n",
       "Subscription Id                               int64\n",
       "Bike Id                                       int64\n",
       "Start Time                           datetime64[ns]\n",
       "Start Station Id                              int64\n",
       "Start Station Name                           object\n",
       "Start Station Latitude                      float64\n",
       "Start Station Longitude                     float64\n",
       "Start Station Elevation                     float64\n",
       "Start Station Capacity                        int64\n",
       "Start Station Accepts Credit Card             int64\n",
       "Start Station FSA                            object\n",
       "End Time                             datetime64[ns]\n",
       "End Station Id                                int64\n",
       "End Station Name                             object\n",
       "End Station Latitude                        float64\n",
       "End Station Longitude                       float64\n",
       "End Station Elevation                       float64\n",
       "End Station Capacity                          int64\n",
       "End Station Accepts Credit Card               int64\n",
       "End Station FSA                              object\n",
       "Trip Duration Minutes                         int64\n",
       "Is Member                                     int64\n",
       "Temp (°C)                                   float64\n",
       "Rel Hum (%)                                 float64\n",
       "Wind Spd (km/h)                             float64\n",
       "dtype: object"
      ]
     },
     "execution_count": 8,
     "metadata": {},
     "output_type": "execute_result"
    }
   ],
   "source": [
    "# Final datatype check\n",
    "df.dtypes"
   ]
  },
  {
   "cell_type": "markdown",
   "metadata": {},
   "source": [
    "## Data Wrangling"
   ]
  },
  {
   "cell_type": "markdown",
   "metadata": {},
   "source": [
    "Back to [Table of Contents](#Table-of-Contents).<br>"
   ]
  },
  {
   "cell_type": "markdown",
   "metadata": {},
   "source": [
    "Now that the dataset is cleaned, we will need to do some data wrangling to see if we can add in more features that can help with predicting our dependent variable which will be created after we finish with data wrangling."
   ]
  },
  {
   "cell_type": "code",
   "execution_count": 9,
   "metadata": {
    "execution": {
     "iopub.execute_input": "2020-12-20T03:24:12.482754Z",
     "iopub.status.busy": "2020-12-20T03:24:12.482364Z",
     "iopub.status.idle": "2020-12-20T03:24:13.381003Z",
     "shell.execute_reply": "2020-12-20T03:24:13.379952Z",
     "shell.execute_reply.started": "2020-12-20T03:24:12.482724Z"
    }
   },
   "outputs": [],
   "source": [
    "# Splitting `Start Time` to Hour, Day, Month, and Year\n",
    "df['Start Time Hour'] = df['Start Time'].dt.hour\n",
    "df['Start Time Day'] = df['Start Time'].dt.dayofweek\n",
    "df['Start Time Month'] = df['Start Time'].dt.month\n",
    "df['Start Time Year'] = df['Start Time'].dt.year"
   ]
  },
  {
   "cell_type": "code",
   "execution_count": 10,
   "metadata": {
    "execution": {
     "iopub.execute_input": "2020-12-20T03:24:13.383604Z",
     "iopub.status.busy": "2020-12-20T03:24:13.383164Z",
     "iopub.status.idle": "2020-12-20T03:24:15.286606Z",
     "shell.execute_reply": "2020-12-20T03:24:15.285870Z",
     "shell.execute_reply.started": "2020-12-20T03:24:13.383557Z"
    }
   },
   "outputs": [],
   "source": [
    "# Creating categorical classifier for `Season`\n",
    "spring = range(80, 172)\n",
    "summer = range(172, 264)\n",
    "fall = range(264, 355)\n",
    "\n",
    "def season(x):\n",
    "    if x in spring:\n",
    "        return 'Spring'\n",
    "    if x in summer:\n",
    "        return 'Summer'\n",
    "    if x in fall:\n",
    "        return 'Fall'\n",
    "    else:\n",
    "        return 'Winter'\n",
    "\n",
    "df['Season'] = df['Start Time'].dt.dayofyear.map(season)"
   ]
  },
  {
   "cell_type": "code",
   "execution_count": 11,
   "metadata": {
    "execution": {
     "iopub.execute_input": "2020-12-20T03:24:15.288279Z",
     "iopub.status.busy": "2020-12-20T03:24:15.288044Z",
     "iopub.status.idle": "2020-12-20T03:24:15.763156Z",
     "shell.execute_reply": "2020-12-20T03:24:15.762153Z",
     "shell.execute_reply.started": "2020-12-20T03:24:15.288254Z"
    }
   },
   "outputs": [
    {
     "data": {
      "text/plain": [
       "Summer    2516135\n",
       "Spring    1085758\n",
       "Fall       979354\n",
       "Winter     449597\n",
       "Name: Season, dtype: int64"
      ]
     },
     "execution_count": 11,
     "metadata": {},
     "output_type": "execute_result"
    }
   ],
   "source": [
    "# Check season distribution\n",
    "df['Season'].value_counts()"
   ]
  },
  {
   "cell_type": "markdown",
   "metadata": {},
   "source": [
    "As expected, trips are taken most in the Summer months and least in the Winter months, next we will convert this feature into dummy variables and add them back to the dataset."
   ]
  },
  {
   "cell_type": "code",
   "execution_count": 12,
   "metadata": {
    "execution": {
     "iopub.execute_input": "2020-12-20T03:24:15.764702Z",
     "iopub.status.busy": "2020-12-20T03:24:15.764387Z",
     "iopub.status.idle": "2020-12-20T03:24:18.536621Z",
     "shell.execute_reply": "2020-12-20T03:24:18.535789Z",
     "shell.execute_reply.started": "2020-12-20T03:24:15.764672Z"
    }
   },
   "outputs": [],
   "source": [
    "# Convert `Season` values to dummy variables\n",
    "season_dummies = pd.get_dummies(df['Season'], drop_first=True)\n",
    "\n",
    "# Add season dummy variables to dataframe\n",
    "df = pd.concat([df, season_dummies], axis=1)"
   ]
  },
  {
   "cell_type": "code",
   "execution_count": 13,
   "metadata": {
    "execution": {
     "iopub.execute_input": "2020-12-20T03:24:18.538116Z",
     "iopub.status.busy": "2020-12-20T03:24:18.537739Z",
     "iopub.status.idle": "2020-12-20T03:24:18.571811Z",
     "shell.execute_reply": "2020-12-20T03:24:18.569953Z",
     "shell.execute_reply.started": "2020-12-20T03:24:18.538086Z"
    }
   },
   "outputs": [
    {
     "data": {
      "text/html": [
       "<div>\n",
       "<style scoped>\n",
       "    .dataframe tbody tr th:only-of-type {\n",
       "        vertical-align: middle;\n",
       "    }\n",
       "\n",
       "    .dataframe tbody tr th {\n",
       "        vertical-align: top;\n",
       "    }\n",
       "\n",
       "    .dataframe thead th {\n",
       "        text-align: right;\n",
       "    }\n",
       "</style>\n",
       "<table border=\"1\" class=\"dataframe\">\n",
       "  <thead>\n",
       "    <tr style=\"text-align: right;\">\n",
       "      <th></th>\n",
       "      <th>Trip Id</th>\n",
       "      <th>Subscription Id</th>\n",
       "      <th>Bike Id</th>\n",
       "      <th>Start Time</th>\n",
       "      <th>Start Station Id</th>\n",
       "      <th>Start Station Name</th>\n",
       "      <th>Start Station Latitude</th>\n",
       "      <th>Start Station Longitude</th>\n",
       "      <th>Start Station Elevation</th>\n",
       "      <th>Start Station Capacity</th>\n",
       "      <th>...</th>\n",
       "      <th>Rel Hum (%)</th>\n",
       "      <th>Wind Spd (km/h)</th>\n",
       "      <th>Start Time Hour</th>\n",
       "      <th>Start Time Day</th>\n",
       "      <th>Start Time Month</th>\n",
       "      <th>Start Time Year</th>\n",
       "      <th>Season</th>\n",
       "      <th>Spring</th>\n",
       "      <th>Summer</th>\n",
       "      <th>Winter</th>\n",
       "    </tr>\n",
       "  </thead>\n",
       "  <tbody>\n",
       "    <tr>\n",
       "      <th>0</th>\n",
       "      <td>4581278</td>\n",
       "      <td>199751</td>\n",
       "      <td>1296</td>\n",
       "      <td>2019-01-01 00:08:00</td>\n",
       "      <td>7021</td>\n",
       "      <td>Bay St / Albert St</td>\n",
       "      <td>43.653264</td>\n",
       "      <td>-79.382458</td>\n",
       "      <td>107.0</td>\n",
       "      <td>35</td>\n",
       "      <td>...</td>\n",
       "      <td>98.0</td>\n",
       "      <td>11.0</td>\n",
       "      <td>0</td>\n",
       "      <td>1</td>\n",
       "      <td>1</td>\n",
       "      <td>2019</td>\n",
       "      <td>Winter</td>\n",
       "      <td>0</td>\n",
       "      <td>0</td>\n",
       "      <td>1</td>\n",
       "    </tr>\n",
       "    <tr>\n",
       "      <th>1</th>\n",
       "      <td>4581279</td>\n",
       "      <td>294730</td>\n",
       "      <td>2947</td>\n",
       "      <td>2019-01-01 00:10:00</td>\n",
       "      <td>7160</td>\n",
       "      <td>King St W / Tecumseth St</td>\n",
       "      <td>43.643333</td>\n",
       "      <td>-79.405556</td>\n",
       "      <td>89.0</td>\n",
       "      <td>15</td>\n",
       "      <td>...</td>\n",
       "      <td>98.0</td>\n",
       "      <td>11.0</td>\n",
       "      <td>0</td>\n",
       "      <td>1</td>\n",
       "      <td>1</td>\n",
       "      <td>2019</td>\n",
       "      <td>Winter</td>\n",
       "      <td>0</td>\n",
       "      <td>0</td>\n",
       "      <td>1</td>\n",
       "    </tr>\n",
       "    <tr>\n",
       "      <th>2</th>\n",
       "      <td>4581280</td>\n",
       "      <td>197252</td>\n",
       "      <td>2293</td>\n",
       "      <td>2019-01-01 00:15:00</td>\n",
       "      <td>7055</td>\n",
       "      <td>Jarvis St / Carlton St</td>\n",
       "      <td>43.662070</td>\n",
       "      <td>-79.376170</td>\n",
       "      <td>103.0</td>\n",
       "      <td>15</td>\n",
       "      <td>...</td>\n",
       "      <td>98.0</td>\n",
       "      <td>11.0</td>\n",
       "      <td>0</td>\n",
       "      <td>1</td>\n",
       "      <td>1</td>\n",
       "      <td>2019</td>\n",
       "      <td>Winter</td>\n",
       "      <td>0</td>\n",
       "      <td>0</td>\n",
       "      <td>1</td>\n",
       "    </tr>\n",
       "    <tr>\n",
       "      <th>3</th>\n",
       "      <td>4581281</td>\n",
       "      <td>171700</td>\n",
       "      <td>283</td>\n",
       "      <td>2019-01-01 00:16:00</td>\n",
       "      <td>7012</td>\n",
       "      <td>Elizabeth St / Edward St (Bus Terminal)</td>\n",
       "      <td>43.656026</td>\n",
       "      <td>-79.385327</td>\n",
       "      <td>92.0</td>\n",
       "      <td>15</td>\n",
       "      <td>...</td>\n",
       "      <td>98.0</td>\n",
       "      <td>11.0</td>\n",
       "      <td>0</td>\n",
       "      <td>1</td>\n",
       "      <td>1</td>\n",
       "      <td>2019</td>\n",
       "      <td>Winter</td>\n",
       "      <td>0</td>\n",
       "      <td>0</td>\n",
       "      <td>1</td>\n",
       "    </tr>\n",
       "    <tr>\n",
       "      <th>4</th>\n",
       "      <td>4581282</td>\n",
       "      <td>306314</td>\n",
       "      <td>1799</td>\n",
       "      <td>2019-01-01 00:19:00</td>\n",
       "      <td>7041</td>\n",
       "      <td>Edward St / Yonge St</td>\n",
       "      <td>43.656729</td>\n",
       "      <td>-79.382736</td>\n",
       "      <td>103.0</td>\n",
       "      <td>23</td>\n",
       "      <td>...</td>\n",
       "      <td>98.0</td>\n",
       "      <td>11.0</td>\n",
       "      <td>0</td>\n",
       "      <td>1</td>\n",
       "      <td>1</td>\n",
       "      <td>2019</td>\n",
       "      <td>Winter</td>\n",
       "      <td>0</td>\n",
       "      <td>0</td>\n",
       "      <td>1</td>\n",
       "    </tr>\n",
       "  </tbody>\n",
       "</table>\n",
       "<p>5 rows × 34 columns</p>\n",
       "</div>"
      ],
      "text/plain": [
       "   Trip Id  Subscription Id  Bike Id          Start Time  Start Station Id  \\\n",
       "0  4581278           199751     1296 2019-01-01 00:08:00              7021   \n",
       "1  4581279           294730     2947 2019-01-01 00:10:00              7160   \n",
       "2  4581280           197252     2293 2019-01-01 00:15:00              7055   \n",
       "3  4581281           171700      283 2019-01-01 00:16:00              7012   \n",
       "4  4581282           306314     1799 2019-01-01 00:19:00              7041   \n",
       "\n",
       "                        Start Station Name  Start Station Latitude  \\\n",
       "0                       Bay St / Albert St               43.653264   \n",
       "1                 King St W / Tecumseth St               43.643333   \n",
       "2                   Jarvis St / Carlton St               43.662070   \n",
       "3  Elizabeth St / Edward St (Bus Terminal)               43.656026   \n",
       "4                     Edward St / Yonge St               43.656729   \n",
       "\n",
       "   Start Station Longitude  Start Station Elevation  Start Station Capacity  \\\n",
       "0               -79.382458                    107.0                      35   \n",
       "1               -79.405556                     89.0                      15   \n",
       "2               -79.376170                    103.0                      15   \n",
       "3               -79.385327                     92.0                      15   \n",
       "4               -79.382736                    103.0                      23   \n",
       "\n",
       "   ...  Rel Hum (%) Wind Spd (km/h) Start Time Hour  Start Time Day  \\\n",
       "0  ...         98.0            11.0               0               1   \n",
       "1  ...         98.0            11.0               0               1   \n",
       "2  ...         98.0            11.0               0               1   \n",
       "3  ...         98.0            11.0               0               1   \n",
       "4  ...         98.0            11.0               0               1   \n",
       "\n",
       "  Start Time Month  Start Time Year  Season  Spring  Summer  Winter  \n",
       "0                1             2019  Winter       0       0       1  \n",
       "1                1             2019  Winter       0       0       1  \n",
       "2                1             2019  Winter       0       0       1  \n",
       "3                1             2019  Winter       0       0       1  \n",
       "4                1             2019  Winter       0       0       1  \n",
       "\n",
       "[5 rows x 34 columns]"
      ]
     },
     "execution_count": 13,
     "metadata": {},
     "output_type": "execute_result"
    }
   ],
   "source": [
    "# Check dataset\n",
    "df.head()"
   ]
  },
  {
   "cell_type": "markdown",
   "metadata": {},
   "source": [
    "Looks like the concatting was successful, next we will create features for weekends, rush hour and holidays."
   ]
  },
  {
   "cell_type": "code",
   "execution_count": 14,
   "metadata": {
    "execution": {
     "iopub.execute_input": "2020-12-20T03:24:18.574312Z",
     "iopub.status.busy": "2020-12-20T03:24:18.573810Z",
     "iopub.status.idle": "2020-12-20T03:24:20.444831Z",
     "shell.execute_reply": "2020-12-20T03:24:20.444002Z",
     "shell.execute_reply.started": "2020-12-20T03:24:18.574275Z"
    }
   },
   "outputs": [],
   "source": [
    "# Creating classifier for when trip was taken on the weekend based on the day of the week \n",
    "df['Weekend'] = df['Start Time Day'].apply(lambda x: 1 if x==5 or 6 else 0)"
   ]
  },
  {
   "cell_type": "code",
   "execution_count": 15,
   "metadata": {
    "execution": {
     "iopub.execute_input": "2020-12-20T03:24:20.446342Z",
     "iopub.status.busy": "2020-12-20T03:24:20.445998Z",
     "iopub.status.idle": "2020-12-20T03:24:22.297384Z",
     "shell.execute_reply": "2020-12-20T03:24:22.296274Z",
     "shell.execute_reply.started": "2020-12-20T03:24:20.446312Z"
    }
   },
   "outputs": [],
   "source": [
    "# Create classifier we derive rush hour / non rush hour based on the hour trip was taken in\n",
    "df['Rush Hour'] = df['Start Time Hour'].apply(lambda x: 1 if x in {8,9,10,16,17,18} else 0)"
   ]
  },
  {
   "cell_type": "code",
   "execution_count": 16,
   "metadata": {
    "execution": {
     "iopub.execute_input": "2020-12-20T03:24:22.299195Z",
     "iopub.status.busy": "2020-12-20T03:24:22.298936Z",
     "iopub.status.idle": "2020-12-20T03:24:29.795789Z",
     "shell.execute_reply": "2020-12-20T03:24:29.795032Z",
     "shell.execute_reply.started": "2020-12-20T03:24:22.299155Z"
    }
   },
   "outputs": [],
   "source": [
    "# Import package to help identify holidays based on dates\n",
    "import holidays\n",
    "\n",
    "# Select Country and save to variable\n",
    "can_holidays = holidays.Canada()\n",
    "\n",
    "# Create `Holiday` column\n",
    "df['Holiday'] = (df['Start Time'].dt.date).apply(lambda x: 1 if x in can_holidays else 0)"
   ]
  },
  {
   "cell_type": "code",
   "execution_count": 17,
   "metadata": {
    "execution": {
     "iopub.execute_input": "2020-12-20T03:24:29.797349Z",
     "iopub.status.busy": "2020-12-20T03:24:29.797042Z",
     "iopub.status.idle": "2020-12-20T03:24:29.828569Z",
     "shell.execute_reply": "2020-12-20T03:24:29.827839Z",
     "shell.execute_reply.started": "2020-12-20T03:24:29.797325Z"
    }
   },
   "outputs": [
    {
     "data": {
      "text/html": [
       "<div>\n",
       "<style scoped>\n",
       "    .dataframe tbody tr th:only-of-type {\n",
       "        vertical-align: middle;\n",
       "    }\n",
       "\n",
       "    .dataframe tbody tr th {\n",
       "        vertical-align: top;\n",
       "    }\n",
       "\n",
       "    .dataframe thead th {\n",
       "        text-align: right;\n",
       "    }\n",
       "</style>\n",
       "<table border=\"1\" class=\"dataframe\">\n",
       "  <thead>\n",
       "    <tr style=\"text-align: right;\">\n",
       "      <th></th>\n",
       "      <th>Trip Id</th>\n",
       "      <th>Subscription Id</th>\n",
       "      <th>Bike Id</th>\n",
       "      <th>Start Time</th>\n",
       "      <th>Start Station Id</th>\n",
       "      <th>Start Station Name</th>\n",
       "      <th>Start Station Latitude</th>\n",
       "      <th>Start Station Longitude</th>\n",
       "      <th>Start Station Elevation</th>\n",
       "      <th>Start Station Capacity</th>\n",
       "      <th>...</th>\n",
       "      <th>Start Time Day</th>\n",
       "      <th>Start Time Month</th>\n",
       "      <th>Start Time Year</th>\n",
       "      <th>Season</th>\n",
       "      <th>Spring</th>\n",
       "      <th>Summer</th>\n",
       "      <th>Winter</th>\n",
       "      <th>Weekend</th>\n",
       "      <th>Rush Hour</th>\n",
       "      <th>Holiday</th>\n",
       "    </tr>\n",
       "  </thead>\n",
       "  <tbody>\n",
       "    <tr>\n",
       "      <th>0</th>\n",
       "      <td>4581278</td>\n",
       "      <td>199751</td>\n",
       "      <td>1296</td>\n",
       "      <td>2019-01-01 00:08:00</td>\n",
       "      <td>7021</td>\n",
       "      <td>Bay St / Albert St</td>\n",
       "      <td>43.653264</td>\n",
       "      <td>-79.382458</td>\n",
       "      <td>107.0</td>\n",
       "      <td>35</td>\n",
       "      <td>...</td>\n",
       "      <td>1</td>\n",
       "      <td>1</td>\n",
       "      <td>2019</td>\n",
       "      <td>Winter</td>\n",
       "      <td>0</td>\n",
       "      <td>0</td>\n",
       "      <td>1</td>\n",
       "      <td>1</td>\n",
       "      <td>0</td>\n",
       "      <td>1</td>\n",
       "    </tr>\n",
       "    <tr>\n",
       "      <th>1</th>\n",
       "      <td>4581279</td>\n",
       "      <td>294730</td>\n",
       "      <td>2947</td>\n",
       "      <td>2019-01-01 00:10:00</td>\n",
       "      <td>7160</td>\n",
       "      <td>King St W / Tecumseth St</td>\n",
       "      <td>43.643333</td>\n",
       "      <td>-79.405556</td>\n",
       "      <td>89.0</td>\n",
       "      <td>15</td>\n",
       "      <td>...</td>\n",
       "      <td>1</td>\n",
       "      <td>1</td>\n",
       "      <td>2019</td>\n",
       "      <td>Winter</td>\n",
       "      <td>0</td>\n",
       "      <td>0</td>\n",
       "      <td>1</td>\n",
       "      <td>1</td>\n",
       "      <td>0</td>\n",
       "      <td>1</td>\n",
       "    </tr>\n",
       "    <tr>\n",
       "      <th>2</th>\n",
       "      <td>4581280</td>\n",
       "      <td>197252</td>\n",
       "      <td>2293</td>\n",
       "      <td>2019-01-01 00:15:00</td>\n",
       "      <td>7055</td>\n",
       "      <td>Jarvis St / Carlton St</td>\n",
       "      <td>43.662070</td>\n",
       "      <td>-79.376170</td>\n",
       "      <td>103.0</td>\n",
       "      <td>15</td>\n",
       "      <td>...</td>\n",
       "      <td>1</td>\n",
       "      <td>1</td>\n",
       "      <td>2019</td>\n",
       "      <td>Winter</td>\n",
       "      <td>0</td>\n",
       "      <td>0</td>\n",
       "      <td>1</td>\n",
       "      <td>1</td>\n",
       "      <td>0</td>\n",
       "      <td>1</td>\n",
       "    </tr>\n",
       "    <tr>\n",
       "      <th>3</th>\n",
       "      <td>4581281</td>\n",
       "      <td>171700</td>\n",
       "      <td>283</td>\n",
       "      <td>2019-01-01 00:16:00</td>\n",
       "      <td>7012</td>\n",
       "      <td>Elizabeth St / Edward St (Bus Terminal)</td>\n",
       "      <td>43.656026</td>\n",
       "      <td>-79.385327</td>\n",
       "      <td>92.0</td>\n",
       "      <td>15</td>\n",
       "      <td>...</td>\n",
       "      <td>1</td>\n",
       "      <td>1</td>\n",
       "      <td>2019</td>\n",
       "      <td>Winter</td>\n",
       "      <td>0</td>\n",
       "      <td>0</td>\n",
       "      <td>1</td>\n",
       "      <td>1</td>\n",
       "      <td>0</td>\n",
       "      <td>1</td>\n",
       "    </tr>\n",
       "    <tr>\n",
       "      <th>4</th>\n",
       "      <td>4581282</td>\n",
       "      <td>306314</td>\n",
       "      <td>1799</td>\n",
       "      <td>2019-01-01 00:19:00</td>\n",
       "      <td>7041</td>\n",
       "      <td>Edward St / Yonge St</td>\n",
       "      <td>43.656729</td>\n",
       "      <td>-79.382736</td>\n",
       "      <td>103.0</td>\n",
       "      <td>23</td>\n",
       "      <td>...</td>\n",
       "      <td>1</td>\n",
       "      <td>1</td>\n",
       "      <td>2019</td>\n",
       "      <td>Winter</td>\n",
       "      <td>0</td>\n",
       "      <td>0</td>\n",
       "      <td>1</td>\n",
       "      <td>1</td>\n",
       "      <td>0</td>\n",
       "      <td>1</td>\n",
       "    </tr>\n",
       "  </tbody>\n",
       "</table>\n",
       "<p>5 rows × 37 columns</p>\n",
       "</div>"
      ],
      "text/plain": [
       "   Trip Id  Subscription Id  Bike Id          Start Time  Start Station Id  \\\n",
       "0  4581278           199751     1296 2019-01-01 00:08:00              7021   \n",
       "1  4581279           294730     2947 2019-01-01 00:10:00              7160   \n",
       "2  4581280           197252     2293 2019-01-01 00:15:00              7055   \n",
       "3  4581281           171700      283 2019-01-01 00:16:00              7012   \n",
       "4  4581282           306314     1799 2019-01-01 00:19:00              7041   \n",
       "\n",
       "                        Start Station Name  Start Station Latitude  \\\n",
       "0                       Bay St / Albert St               43.653264   \n",
       "1                 King St W / Tecumseth St               43.643333   \n",
       "2                   Jarvis St / Carlton St               43.662070   \n",
       "3  Elizabeth St / Edward St (Bus Terminal)               43.656026   \n",
       "4                     Edward St / Yonge St               43.656729   \n",
       "\n",
       "   Start Station Longitude  Start Station Elevation  Start Station Capacity  \\\n",
       "0               -79.382458                    107.0                      35   \n",
       "1               -79.405556                     89.0                      15   \n",
       "2               -79.376170                    103.0                      15   \n",
       "3               -79.385327                     92.0                      15   \n",
       "4               -79.382736                    103.0                      23   \n",
       "\n",
       "   ...  Start Time Day Start Time Month Start Time Year  Season Spring  \\\n",
       "0  ...               1                1            2019  Winter      0   \n",
       "1  ...               1                1            2019  Winter      0   \n",
       "2  ...               1                1            2019  Winter      0   \n",
       "3  ...               1                1            2019  Winter      0   \n",
       "4  ...               1                1            2019  Winter      0   \n",
       "\n",
       "   Summer  Winter  Weekend  Rush Hour  Holiday  \n",
       "0       0       1        1          0        1  \n",
       "1       0       1        1          0        1  \n",
       "2       0       1        1          0        1  \n",
       "3       0       1        1          0        1  \n",
       "4       0       1        1          0        1  \n",
       "\n",
       "[5 rows x 37 columns]"
      ]
     },
     "execution_count": 17,
     "metadata": {},
     "output_type": "execute_result"
    }
   ],
   "source": [
    "# Check dataset\n",
    "df.head()"
   ]
  },
  {
   "cell_type": "markdown",
   "metadata": {},
   "source": [
    "We can create create another feature for when trips are started and ended in the same FSA."
   ]
  },
  {
   "cell_type": "code",
   "execution_count": 18,
   "metadata": {
    "execution": {
     "iopub.execute_input": "2020-12-20T03:24:29.830127Z",
     "iopub.status.busy": "2020-12-20T03:24:29.829775Z",
     "iopub.status.idle": "2020-12-20T03:24:30.356486Z",
     "shell.execute_reply": "2020-12-20T03:24:30.355640Z",
     "shell.execute_reply.started": "2020-12-20T03:24:29.830075Z"
    }
   },
   "outputs": [],
   "source": [
    "# Create classifier for when trips are started and ended in the same FSA \n",
    "df['Trip Within FSA'] = np.where(df['Start Station FSA']==df['End Station FSA'], 1, 0)"
   ]
  },
  {
   "cell_type": "code",
   "execution_count": 19,
   "metadata": {
    "execution": {
     "iopub.execute_input": "2020-12-20T03:24:30.358137Z",
     "iopub.status.busy": "2020-12-20T03:24:30.357791Z",
     "iopub.status.idle": "2020-12-20T03:24:30.384883Z",
     "shell.execute_reply": "2020-12-20T03:24:30.384250Z",
     "shell.execute_reply.started": "2020-12-20T03:24:30.358111Z"
    }
   },
   "outputs": [
    {
     "data": {
      "text/html": [
       "<div>\n",
       "<style scoped>\n",
       "    .dataframe tbody tr th:only-of-type {\n",
       "        vertical-align: middle;\n",
       "    }\n",
       "\n",
       "    .dataframe tbody tr th {\n",
       "        vertical-align: top;\n",
       "    }\n",
       "\n",
       "    .dataframe thead th {\n",
       "        text-align: right;\n",
       "    }\n",
       "</style>\n",
       "<table border=\"1\" class=\"dataframe\">\n",
       "  <thead>\n",
       "    <tr style=\"text-align: right;\">\n",
       "      <th></th>\n",
       "      <th>Trip Id</th>\n",
       "      <th>Subscription Id</th>\n",
       "      <th>Bike Id</th>\n",
       "      <th>Start Time</th>\n",
       "      <th>Start Station Id</th>\n",
       "      <th>Start Station Name</th>\n",
       "      <th>Start Station Latitude</th>\n",
       "      <th>Start Station Longitude</th>\n",
       "      <th>Start Station Elevation</th>\n",
       "      <th>Start Station Capacity</th>\n",
       "      <th>...</th>\n",
       "      <th>Start Time Month</th>\n",
       "      <th>Start Time Year</th>\n",
       "      <th>Season</th>\n",
       "      <th>Spring</th>\n",
       "      <th>Summer</th>\n",
       "      <th>Winter</th>\n",
       "      <th>Weekend</th>\n",
       "      <th>Rush Hour</th>\n",
       "      <th>Holiday</th>\n",
       "      <th>Trip Within FSA</th>\n",
       "    </tr>\n",
       "  </thead>\n",
       "  <tbody>\n",
       "    <tr>\n",
       "      <th>0</th>\n",
       "      <td>4581278</td>\n",
       "      <td>199751</td>\n",
       "      <td>1296</td>\n",
       "      <td>2019-01-01 00:08:00</td>\n",
       "      <td>7021</td>\n",
       "      <td>Bay St / Albert St</td>\n",
       "      <td>43.653264</td>\n",
       "      <td>-79.382458</td>\n",
       "      <td>107.0</td>\n",
       "      <td>35</td>\n",
       "      <td>...</td>\n",
       "      <td>1</td>\n",
       "      <td>2019</td>\n",
       "      <td>Winter</td>\n",
       "      <td>0</td>\n",
       "      <td>0</td>\n",
       "      <td>1</td>\n",
       "      <td>1</td>\n",
       "      <td>0</td>\n",
       "      <td>1</td>\n",
       "      <td>0</td>\n",
       "    </tr>\n",
       "    <tr>\n",
       "      <th>1</th>\n",
       "      <td>4581279</td>\n",
       "      <td>294730</td>\n",
       "      <td>2947</td>\n",
       "      <td>2019-01-01 00:10:00</td>\n",
       "      <td>7160</td>\n",
       "      <td>King St W / Tecumseth St</td>\n",
       "      <td>43.643333</td>\n",
       "      <td>-79.405556</td>\n",
       "      <td>89.0</td>\n",
       "      <td>15</td>\n",
       "      <td>...</td>\n",
       "      <td>1</td>\n",
       "      <td>2019</td>\n",
       "      <td>Winter</td>\n",
       "      <td>0</td>\n",
       "      <td>0</td>\n",
       "      <td>1</td>\n",
       "      <td>1</td>\n",
       "      <td>0</td>\n",
       "      <td>1</td>\n",
       "      <td>0</td>\n",
       "    </tr>\n",
       "    <tr>\n",
       "      <th>2</th>\n",
       "      <td>4581280</td>\n",
       "      <td>197252</td>\n",
       "      <td>2293</td>\n",
       "      <td>2019-01-01 00:15:00</td>\n",
       "      <td>7055</td>\n",
       "      <td>Jarvis St / Carlton St</td>\n",
       "      <td>43.662070</td>\n",
       "      <td>-79.376170</td>\n",
       "      <td>103.0</td>\n",
       "      <td>15</td>\n",
       "      <td>...</td>\n",
       "      <td>1</td>\n",
       "      <td>2019</td>\n",
       "      <td>Winter</td>\n",
       "      <td>0</td>\n",
       "      <td>0</td>\n",
       "      <td>1</td>\n",
       "      <td>1</td>\n",
       "      <td>0</td>\n",
       "      <td>1</td>\n",
       "      <td>0</td>\n",
       "    </tr>\n",
       "    <tr>\n",
       "      <th>3</th>\n",
       "      <td>4581281</td>\n",
       "      <td>171700</td>\n",
       "      <td>283</td>\n",
       "      <td>2019-01-01 00:16:00</td>\n",
       "      <td>7012</td>\n",
       "      <td>Elizabeth St / Edward St (Bus Terminal)</td>\n",
       "      <td>43.656026</td>\n",
       "      <td>-79.385327</td>\n",
       "      <td>92.0</td>\n",
       "      <td>15</td>\n",
       "      <td>...</td>\n",
       "      <td>1</td>\n",
       "      <td>2019</td>\n",
       "      <td>Winter</td>\n",
       "      <td>0</td>\n",
       "      <td>0</td>\n",
       "      <td>1</td>\n",
       "      <td>1</td>\n",
       "      <td>0</td>\n",
       "      <td>1</td>\n",
       "      <td>1</td>\n",
       "    </tr>\n",
       "    <tr>\n",
       "      <th>4</th>\n",
       "      <td>4581282</td>\n",
       "      <td>306314</td>\n",
       "      <td>1799</td>\n",
       "      <td>2019-01-01 00:19:00</td>\n",
       "      <td>7041</td>\n",
       "      <td>Edward St / Yonge St</td>\n",
       "      <td>43.656729</td>\n",
       "      <td>-79.382736</td>\n",
       "      <td>103.0</td>\n",
       "      <td>23</td>\n",
       "      <td>...</td>\n",
       "      <td>1</td>\n",
       "      <td>2019</td>\n",
       "      <td>Winter</td>\n",
       "      <td>0</td>\n",
       "      <td>0</td>\n",
       "      <td>1</td>\n",
       "      <td>1</td>\n",
       "      <td>0</td>\n",
       "      <td>1</td>\n",
       "      <td>0</td>\n",
       "    </tr>\n",
       "  </tbody>\n",
       "</table>\n",
       "<p>5 rows × 38 columns</p>\n",
       "</div>"
      ],
      "text/plain": [
       "   Trip Id  Subscription Id  Bike Id          Start Time  Start Station Id  \\\n",
       "0  4581278           199751     1296 2019-01-01 00:08:00              7021   \n",
       "1  4581279           294730     2947 2019-01-01 00:10:00              7160   \n",
       "2  4581280           197252     2293 2019-01-01 00:15:00              7055   \n",
       "3  4581281           171700      283 2019-01-01 00:16:00              7012   \n",
       "4  4581282           306314     1799 2019-01-01 00:19:00              7041   \n",
       "\n",
       "                        Start Station Name  Start Station Latitude  \\\n",
       "0                       Bay St / Albert St               43.653264   \n",
       "1                 King St W / Tecumseth St               43.643333   \n",
       "2                   Jarvis St / Carlton St               43.662070   \n",
       "3  Elizabeth St / Edward St (Bus Terminal)               43.656026   \n",
       "4                     Edward St / Yonge St               43.656729   \n",
       "\n",
       "   Start Station Longitude  Start Station Elevation  Start Station Capacity  \\\n",
       "0               -79.382458                    107.0                      35   \n",
       "1               -79.405556                     89.0                      15   \n",
       "2               -79.376170                    103.0                      15   \n",
       "3               -79.385327                     92.0                      15   \n",
       "4               -79.382736                    103.0                      23   \n",
       "\n",
       "   ...  Start Time Month Start Time Year  Season  Spring Summer  Winter  \\\n",
       "0  ...                 1            2019  Winter       0      0       1   \n",
       "1  ...                 1            2019  Winter       0      0       1   \n",
       "2  ...                 1            2019  Winter       0      0       1   \n",
       "3  ...                 1            2019  Winter       0      0       1   \n",
       "4  ...                 1            2019  Winter       0      0       1   \n",
       "\n",
       "   Weekend  Rush Hour  Holiday  Trip Within FSA  \n",
       "0        1          0        1                0  \n",
       "1        1          0        1                0  \n",
       "2        1          0        1                0  \n",
       "3        1          0        1                1  \n",
       "4        1          0        1                0  \n",
       "\n",
       "[5 rows x 38 columns]"
      ]
     },
     "execution_count": 19,
     "metadata": {},
     "output_type": "execute_result"
    }
   ],
   "source": [
    "# Check dataset\n",
    "df.head()"
   ]
  },
  {
   "cell_type": "markdown",
   "metadata": {},
   "source": [
    "It looks like there is no other features we can create, so lets check our dependent variable and create a classifier out of `Trip Duration Minutes`."
   ]
  },
  {
   "cell_type": "code",
   "execution_count": 20,
   "metadata": {
    "execution": {
     "iopub.execute_input": "2020-12-20T03:24:30.386430Z",
     "iopub.status.busy": "2020-12-20T03:24:30.386031Z",
     "iopub.status.idle": "2020-12-20T03:24:30.557627Z",
     "shell.execute_reply": "2020-12-20T03:24:30.556751Z",
     "shell.execute_reply.started": "2020-12-20T03:24:30.386384Z"
    }
   },
   "outputs": [
    {
     "data": {
      "text/plain": [
       "count    5.030844e+06\n",
       "mean     1.871481e+01\n",
       "std      2.308298e+02\n",
       "min      0.000000e+00\n",
       "25%      8.000000e+00\n",
       "50%      1.300000e+01\n",
       "75%      2.000000e+01\n",
       "max      2.067300e+05\n",
       "Name: Trip Duration Minutes, dtype: float64"
      ]
     },
     "execution_count": 20,
     "metadata": {},
     "output_type": "execute_result"
    }
   ],
   "source": [
    "# Describe stats for `Trip Duration Minutes`\n",
    "df['Trip Duration Minutes'].describe()"
   ]
  },
  {
   "cell_type": "markdown",
   "metadata": {},
   "source": [
    "Initial Observations\n",
    "- Longest Trip Duration is 206,730 minutes\n",
    "- Mean Trip Duration is 17.8  minutes with a standard deviation of 191\n",
    "- 50% of all trips end at 12 minutes"
   ]
  },
  {
   "cell_type": "code",
   "execution_count": 21,
   "metadata": {
    "execution": {
     "iopub.execute_input": "2020-12-20T03:24:30.559305Z",
     "iopub.status.busy": "2020-12-20T03:24:30.558901Z",
     "iopub.status.idle": "2020-12-20T03:25:29.242192Z",
     "shell.execute_reply": "2020-12-20T03:25:29.241460Z",
     "shell.execute_reply.started": "2020-12-20T03:24:30.559277Z"
    }
   },
   "outputs": [
    {
     "data": {
      "image/png": "[encoded data removed]",
      "text/plain": [
       "<Figure size 1440x720 with 1 Axes>"
      ]
     },
     "metadata": {
      "needs_background": "light"
     },
     "output_type": "display_data"
    }
   ],
   "source": [
    "# Look at the distribution of trip lengths\n",
    "plt.figure(figsize=(20,10))\n",
    "df['Trip Duration Minutes'].value_counts().sort_index().plot(kind='bar')\n",
    "plt.xlabel('Duration of trip')\n",
    "plt.ylabel('Count of trips')\n",
    "plt.title('Distribution of Trip Duration')\n",
    "plt.show()"
   ]
  },
  {
   "cell_type": "markdown",
   "metadata": {},
   "source": [
    "As suspected from the basic statistics before running this graph we see that the majority of rides are concentrated in the 12 min mark with the long tail of rides that stretch out to the longest trip length of ~200,000 min.\n",
    "\n",
    "We will need to address this imbalance by either binning the trips into categories or dropping datapoints where trips exceed a threshold.\n",
    "\n",
    "Based on the Toronto BikeShare Usage Fees\n",
    "https://bikesharetoronto.com/get-pass/\n",
    "\n",
    "Recalling the the pricing plan of Toronto BikeShare, any trip that exceeds 30min is sujected to late fee charges. We can bin the `Trip Duration Minutes` into a binary classifier where all trips that exceed 30min is considered late. Below you can see how long the tail of the distribution can get."
   ]
  },
  {
   "cell_type": "code",
   "execution_count": 22,
   "metadata": {
    "execution": {
     "iopub.execute_input": "2020-12-20T03:25:29.243830Z",
     "iopub.status.busy": "2020-12-20T03:25:29.243591Z",
     "iopub.status.idle": "2020-12-20T03:25:29.268964Z",
     "shell.execute_reply": "2020-12-20T03:25:29.268270Z",
     "shell.execute_reply.started": "2020-12-20T03:25:29.243803Z"
    }
   },
   "outputs": [],
   "source": [
    "# Creating my dependent variable by replacing `Trip Duration Minutes` with binary classifier\n",
    "df['Late Return'] = np.where(df['Trip Duration Minutes'] > 30, 1, 0)"
   ]
  },
  {
   "cell_type": "code",
   "execution_count": 23,
   "metadata": {
    "execution": {
     "iopub.execute_input": "2020-12-20T03:25:29.270565Z",
     "iopub.status.busy": "2020-12-20T03:25:29.270288Z",
     "iopub.status.idle": "2020-12-20T03:25:29.277631Z",
     "shell.execute_reply": "2020-12-20T03:25:29.276857Z",
     "shell.execute_reply.started": "2020-12-20T03:25:29.270540Z"
    }
   },
   "outputs": [
    {
     "data": {
      "text/plain": [
       "Trip Id                                       int64\n",
       "Subscription Id                               int64\n",
       "Bike Id                                       int64\n",
       "Start Time                           datetime64[ns]\n",
       "Start Station Id                              int64\n",
       "Start Station Name                           object\n",
       "Start Station Latitude                      float64\n",
       "Start Station Longitude                     float64\n",
       "Start Station Elevation                     float64\n",
       "Start Station Capacity                        int64\n",
       "Start Station Accepts Credit Card             int64\n",
       "Start Station FSA                            object\n",
       "End Time                             datetime64[ns]\n",
       "End Station Id                                int64\n",
       "End Station Name                             object\n",
       "End Station Latitude                        float64\n",
       "End Station Longitude                       float64\n",
       "End Station Elevation                       float64\n",
       "End Station Capacity                          int64\n",
       "End Station Accepts Credit Card               int64\n",
       "End Station FSA                              object\n",
       "Trip Duration Minutes                         int64\n",
       "Is Member                                     int64\n",
       "Temp (°C)                                   float64\n",
       "Rel Hum (%)                                 float64\n",
       "Wind Spd (km/h)                             float64\n",
       "Start Time Hour                               int64\n",
       "Start Time Day                                int64\n",
       "Start Time Month                              int64\n",
       "Start Time Year                               int64\n",
       "Season                                       object\n",
       "Spring                                        uint8\n",
       "Summer                                        uint8\n",
       "Winter                                        uint8\n",
       "Weekend                                       int64\n",
       "Rush Hour                                     int64\n",
       "Holiday                                       int64\n",
       "Trip Within FSA                               int64\n",
       "Late Return                                   int64\n",
       "dtype: object"
      ]
     },
     "execution_count": 23,
     "metadata": {},
     "output_type": "execute_result"
    }
   ],
   "source": [
    "# Check datatypes\n",
    "df.dtypes"
   ]
  },
  {
   "cell_type": "markdown",
   "metadata": {},
   "source": [
    "Now that we have finished with the data wrangling, we can drop all the non-numeric features and start to create and fit our models. "
   ]
  },
  {
   "cell_type": "code",
   "execution_count": 24,
   "metadata": {
    "execution": {
     "iopub.execute_input": "2020-12-20T03:25:29.279372Z",
     "iopub.status.busy": "2020-12-20T03:25:29.278982Z",
     "iopub.status.idle": "2020-12-20T03:25:32.706464Z",
     "shell.execute_reply": "2020-12-20T03:25:32.705638Z",
     "shell.execute_reply.started": "2020-12-20T03:25:29.279343Z"
    }
   },
   "outputs": [],
   "source": [
    "# drop non-numeric features\n",
    "df.drop(['Start Time', 'Start Station Name', 'Start Station FSA', \n",
    "         'End Time', 'End Station Name', 'End Station FSA', 'Trip Duration Minutes', 'Season'], axis=1, inplace=True)"
   ]
  },
  {
   "cell_type": "code",
   "execution_count": 25,
   "metadata": {
    "execution": {
     "iopub.execute_input": "2020-12-20T03:25:32.711148Z",
     "iopub.status.busy": "2020-12-20T03:25:32.710670Z",
     "iopub.status.idle": "2020-12-20T03:25:32.722508Z",
     "shell.execute_reply": "2020-12-20T03:25:32.717809Z",
     "shell.execute_reply.started": "2020-12-20T03:25:32.711114Z"
    }
   },
   "outputs": [
    {
     "data": {
      "text/plain": [
       "Trip Id                                int64\n",
       "Subscription Id                        int64\n",
       "Bike Id                                int64\n",
       "Start Station Id                       int64\n",
       "Start Station Latitude               float64\n",
       "Start Station Longitude              float64\n",
       "Start Station Elevation              float64\n",
       "Start Station Capacity                 int64\n",
       "Start Station Accepts Credit Card      int64\n",
       "End Station Id                         int64\n",
       "End Station Latitude                 float64\n",
       "End Station Longitude                float64\n",
       "End Station Elevation                float64\n",
       "End Station Capacity                   int64\n",
       "End Station Accepts Credit Card        int64\n",
       "Is Member                              int64\n",
       "Temp (°C)                            float64\n",
       "Rel Hum (%)                          float64\n",
       "Wind Spd (km/h)                      float64\n",
       "Start Time Hour                        int64\n",
       "Start Time Day                         int64\n",
       "Start Time Month                       int64\n",
       "Start Time Year                        int64\n",
       "Spring                                 uint8\n",
       "Summer                                 uint8\n",
       "Winter                                 uint8\n",
       "Weekend                                int64\n",
       "Rush Hour                              int64\n",
       "Holiday                                int64\n",
       "Trip Within FSA                        int64\n",
       "Late Return                            int64\n",
       "dtype: object"
      ]
     },
     "execution_count": 25,
     "metadata": {},
     "output_type": "execute_result"
    }
   ],
   "source": [
    "# Final datatypes check\n",
    "df.dtypes"
   ]
  },
  {
   "cell_type": "markdown",
   "metadata": {},
   "source": [
    "All the features are not numeric, lets move on to creating and fitting our logistic regression model."
   ]
  },
  {
   "cell_type": "markdown",
   "metadata": {},
   "source": [
    "## Machine Learning Model"
   ]
  },
  {
   "cell_type": "markdown",
   "metadata": {},
   "source": [
    "Back to [Table of Contents](#Table-of-Contents).<br>"
   ]
  },
  {
   "cell_type": "markdown",
   "metadata": {
    "execution": {
     "iopub.execute_input": "2020-12-20T16:51:35.270857Z",
     "iopub.status.busy": "2020-12-20T16:51:35.270556Z",
     "iopub.status.idle": "2020-12-20T16:51:35.298102Z",
     "shell.execute_reply": "2020-12-20T16:51:35.295159Z",
     "shell.execute_reply.started": "2020-12-20T16:51:35.270831Z"
    }
   },
   "source": [
    "First we will need to separate our independent and dependent variables."
   ]
  },
  {
   "cell_type": "code",
   "execution_count": 26,
   "metadata": {
    "execution": {
     "iopub.execute_input": "2020-12-20T03:25:32.733867Z",
     "iopub.status.busy": "2020-12-20T03:25:32.733547Z",
     "iopub.status.idle": "2020-12-20T03:25:33.462361Z",
     "shell.execute_reply": "2020-12-20T03:25:33.461161Z",
     "shell.execute_reply.started": "2020-12-20T03:25:32.733827Z"
    }
   },
   "outputs": [],
   "source": [
    "# Create independent and dependent variables for model training\n",
    "X = df.drop(['Late Return'], axis=1)\n",
    "y = df['Late Return']"
   ]
  },
  {
   "cell_type": "code",
   "execution_count": 27,
   "metadata": {
    "execution": {
     "iopub.execute_input": "2020-12-20T03:25:33.466460Z",
     "iopub.status.busy": "2020-12-20T03:25:33.466027Z",
     "iopub.status.idle": "2020-12-20T03:25:33.497479Z",
     "shell.execute_reply": "2020-12-20T03:25:33.496551Z",
     "shell.execute_reply.started": "2020-12-20T03:25:33.466428Z"
    }
   },
   "outputs": [
    {
     "data": {
      "text/html": [
       "<div>\n",
       "<style scoped>\n",
       "    .dataframe tbody tr th:only-of-type {\n",
       "        vertical-align: middle;\n",
       "    }\n",
       "\n",
       "    .dataframe tbody tr th {\n",
       "        vertical-align: top;\n",
       "    }\n",
       "\n",
       "    .dataframe thead th {\n",
       "        text-align: right;\n",
       "    }\n",
       "</style>\n",
       "<table border=\"1\" class=\"dataframe\">\n",
       "  <thead>\n",
       "    <tr style=\"text-align: right;\">\n",
       "      <th></th>\n",
       "      <th>Trip Id</th>\n",
       "      <th>Subscription Id</th>\n",
       "      <th>Bike Id</th>\n",
       "      <th>Start Station Id</th>\n",
       "      <th>Start Station Latitude</th>\n",
       "      <th>Start Station Longitude</th>\n",
       "      <th>Start Station Elevation</th>\n",
       "      <th>Start Station Capacity</th>\n",
       "      <th>Start Station Accepts Credit Card</th>\n",
       "      <th>End Station Id</th>\n",
       "      <th>...</th>\n",
       "      <th>Start Time Day</th>\n",
       "      <th>Start Time Month</th>\n",
       "      <th>Start Time Year</th>\n",
       "      <th>Spring</th>\n",
       "      <th>Summer</th>\n",
       "      <th>Winter</th>\n",
       "      <th>Weekend</th>\n",
       "      <th>Rush Hour</th>\n",
       "      <th>Holiday</th>\n",
       "      <th>Trip Within FSA</th>\n",
       "    </tr>\n",
       "  </thead>\n",
       "  <tbody>\n",
       "    <tr>\n",
       "      <th>0</th>\n",
       "      <td>4581278</td>\n",
       "      <td>199751</td>\n",
       "      <td>1296</td>\n",
       "      <td>7021</td>\n",
       "      <td>43.653264</td>\n",
       "      <td>-79.382458</td>\n",
       "      <td>107.0</td>\n",
       "      <td>35</td>\n",
       "      <td>1</td>\n",
       "      <td>7233</td>\n",
       "      <td>...</td>\n",
       "      <td>1</td>\n",
       "      <td>1</td>\n",
       "      <td>2019</td>\n",
       "      <td>0</td>\n",
       "      <td>0</td>\n",
       "      <td>1</td>\n",
       "      <td>1</td>\n",
       "      <td>0</td>\n",
       "      <td>1</td>\n",
       "      <td>0</td>\n",
       "    </tr>\n",
       "    <tr>\n",
       "      <th>1</th>\n",
       "      <td>4581279</td>\n",
       "      <td>294730</td>\n",
       "      <td>2947</td>\n",
       "      <td>7160</td>\n",
       "      <td>43.643333</td>\n",
       "      <td>-79.405556</td>\n",
       "      <td>89.0</td>\n",
       "      <td>15</td>\n",
       "      <td>1</td>\n",
       "      <td>7051</td>\n",
       "      <td>...</td>\n",
       "      <td>1</td>\n",
       "      <td>1</td>\n",
       "      <td>2019</td>\n",
       "      <td>0</td>\n",
       "      <td>0</td>\n",
       "      <td>1</td>\n",
       "      <td>1</td>\n",
       "      <td>0</td>\n",
       "      <td>1</td>\n",
       "      <td>0</td>\n",
       "    </tr>\n",
       "    <tr>\n",
       "      <th>2</th>\n",
       "      <td>4581280</td>\n",
       "      <td>197252</td>\n",
       "      <td>2293</td>\n",
       "      <td>7055</td>\n",
       "      <td>43.662070</td>\n",
       "      <td>-79.376170</td>\n",
       "      <td>103.0</td>\n",
       "      <td>15</td>\n",
       "      <td>1</td>\n",
       "      <td>7013</td>\n",
       "      <td>...</td>\n",
       "      <td>1</td>\n",
       "      <td>1</td>\n",
       "      <td>2019</td>\n",
       "      <td>0</td>\n",
       "      <td>0</td>\n",
       "      <td>1</td>\n",
       "      <td>1</td>\n",
       "      <td>0</td>\n",
       "      <td>1</td>\n",
       "      <td>0</td>\n",
       "    </tr>\n",
       "    <tr>\n",
       "      <th>3</th>\n",
       "      <td>4581281</td>\n",
       "      <td>171700</td>\n",
       "      <td>283</td>\n",
       "      <td>7012</td>\n",
       "      <td>43.656026</td>\n",
       "      <td>-79.385327</td>\n",
       "      <td>92.0</td>\n",
       "      <td>15</td>\n",
       "      <td>1</td>\n",
       "      <td>7235</td>\n",
       "      <td>...</td>\n",
       "      <td>1</td>\n",
       "      <td>1</td>\n",
       "      <td>2019</td>\n",
       "      <td>0</td>\n",
       "      <td>0</td>\n",
       "      <td>1</td>\n",
       "      <td>1</td>\n",
       "      <td>0</td>\n",
       "      <td>1</td>\n",
       "      <td>1</td>\n",
       "    </tr>\n",
       "    <tr>\n",
       "      <th>4</th>\n",
       "      <td>4581282</td>\n",
       "      <td>306314</td>\n",
       "      <td>1799</td>\n",
       "      <td>7041</td>\n",
       "      <td>43.656729</td>\n",
       "      <td>-79.382736</td>\n",
       "      <td>103.0</td>\n",
       "      <td>23</td>\n",
       "      <td>1</td>\n",
       "      <td>7257</td>\n",
       "      <td>...</td>\n",
       "      <td>1</td>\n",
       "      <td>1</td>\n",
       "      <td>2019</td>\n",
       "      <td>0</td>\n",
       "      <td>0</td>\n",
       "      <td>1</td>\n",
       "      <td>1</td>\n",
       "      <td>0</td>\n",
       "      <td>1</td>\n",
       "      <td>0</td>\n",
       "    </tr>\n",
       "  </tbody>\n",
       "</table>\n",
       "<p>5 rows × 30 columns</p>\n",
       "</div>"
      ],
      "text/plain": [
       "   Trip Id  Subscription Id  Bike Id  Start Station Id  \\\n",
       "0  4581278           199751     1296              7021   \n",
       "1  4581279           294730     2947              7160   \n",
       "2  4581280           197252     2293              7055   \n",
       "3  4581281           171700      283              7012   \n",
       "4  4581282           306314     1799              7041   \n",
       "\n",
       "   Start Station Latitude  Start Station Longitude  Start Station Elevation  \\\n",
       "0               43.653264               -79.382458                    107.0   \n",
       "1               43.643333               -79.405556                     89.0   \n",
       "2               43.662070               -79.376170                    103.0   \n",
       "3               43.656026               -79.385327                     92.0   \n",
       "4               43.656729               -79.382736                    103.0   \n",
       "\n",
       "   Start Station Capacity  Start Station Accepts Credit Card  End Station Id  \\\n",
       "0                      35                                  1            7233   \n",
       "1                      15                                  1            7051   \n",
       "2                      15                                  1            7013   \n",
       "3                      15                                  1            7235   \n",
       "4                      23                                  1            7257   \n",
       "\n",
       "   ...  Start Time Day  Start Time Month  Start Time Year  Spring  Summer  \\\n",
       "0  ...               1                 1             2019       0       0   \n",
       "1  ...               1                 1             2019       0       0   \n",
       "2  ...               1                 1             2019       0       0   \n",
       "3  ...               1                 1             2019       0       0   \n",
       "4  ...               1                 1             2019       0       0   \n",
       "\n",
       "   Winter  Weekend  Rush Hour  Holiday  Trip Within FSA  \n",
       "0       1        1          0        1                0  \n",
       "1       1        1          0        1                0  \n",
       "2       1        1          0        1                0  \n",
       "3       1        1          0        1                1  \n",
       "4       1        1          0        1                0  \n",
       "\n",
       "[5 rows x 30 columns]"
      ]
     },
     "execution_count": 27,
     "metadata": {},
     "output_type": "execute_result"
    }
   ],
   "source": [
    "# Check X\n",
    "X.head()"
   ]
  },
  {
   "cell_type": "code",
   "execution_count": 28,
   "metadata": {
    "execution": {
     "iopub.execute_input": "2020-12-20T03:25:33.499469Z",
     "iopub.status.busy": "2020-12-20T03:25:33.499144Z",
     "iopub.status.idle": "2020-12-20T03:25:33.522960Z",
     "shell.execute_reply": "2020-12-20T03:25:33.522280Z",
     "shell.execute_reply.started": "2020-12-20T03:25:33.499424Z"
    }
   },
   "outputs": [
    {
     "data": {
      "text/plain": [
       "0    0\n",
       "1    0\n",
       "2    0\n",
       "3    0\n",
       "4    0\n",
       "Name: Late Return, dtype: int64"
      ]
     },
     "execution_count": 28,
     "metadata": {},
     "output_type": "execute_result"
    }
   ],
   "source": [
    "# Check y\n",
    "y.head()"
   ]
  },
  {
   "cell_type": "code",
   "execution_count": 29,
   "metadata": {
    "execution": {
     "iopub.execute_input": "2020-12-20T03:25:33.524670Z",
     "iopub.status.busy": "2020-12-20T03:25:33.524296Z",
     "iopub.status.idle": "2020-12-20T03:25:33.658486Z",
     "shell.execute_reply": "2020-12-20T03:25:33.657284Z",
     "shell.execute_reply.started": "2020-12-20T03:25:33.524630Z"
    }
   },
   "outputs": [
    {
     "name": "stdout",
     "output_type": "stream",
     "text": [
      "Distribution of dependent variable:\n",
      "\n",
      "0    4696187\n",
      "1     334657\n",
      "Name: Late Return, dtype: int64\n",
      "\n",
      "----------------------------------------\n",
      "\n",
      "Pecentage of the distribution:\n",
      "\n",
      "0    0.933479\n",
      "1    0.066521\n",
      "Name: Late Return, dtype: float64\n"
     ]
    }
   ],
   "source": [
    "# Check distribution of dependent variable \n",
    "print('Distribution of dependent variable:\\n')\n",
    "print(y.value_counts())\n",
    "print('\\n----------------------------------------\\n')\n",
    "print('Pecentage of the distribution:\\n')\n",
    "print(y.value_counts()/(len(y)))"
   ]
  },
  {
   "cell_type": "markdown",
   "metadata": {},
   "source": [
    "It appears that the dependent variable is imbalanced with only 6.4% of datapoints for `Late Returns` as True. If we were to use the variable to train as is, we would not get a very good classification accuracy, precision and recall score on the dataset as we have learned in our lectures. Therefore we will need to rebalance the dependent variable by either upsampling or downsampling the data.\n",
    "\n",
    "Because we  have over 300K datapoints that are postiive, I have decided to downsample our dataset to try and limit any biases we would inadvertedly introduce if we were to generate/copy datapoints from upsample.  \n",
    "\n",
    "While downsampling by removing the extra datapoints from the majority class may cause the model performance to suffer, I believe that with over 600K datapoints in a balanced dataset we will still be able to get a good classification accuracy, precision and recall from the model we will train.\n",
    "\n",
    "After some research from the imblearn library documentation found [here](https://imbalanced-learn.readthedocs.io/en/stable/api.html#module-imblearn.over_sampling). I will be testing both [ClusteredCentroid Method](https://imbalanced-learn.readthedocs.io/en/stable/generated/imblearn.under_sampling.ClusterCentroids.html#imblearn.under_sampling.ClusterCentroids) and [Random Undersampler Method](https://imbalanced-learn.readthedocs.io/en/stable/generated/imblearn.under_sampling.RandomUnderSampler.html#imblearn.under_sampling.RandomUnderSampler).\n",
    "\n",
    "Clustered Centroid Method 'replaces a cluster of majority class by the cluster centroid of a KMeans algorithm.' In other words, it makes use of K-means to reduce the number of datapoints by replacing clusters of data therefore the method requires that the data to be grouped into clusters to begin with to work effectively. \n",
    "\n",
    "Random Undersampler Method removes datapoints of the majority class by randomly picking datapoints with or without replacement and can only specify desired ratios for binary classiciation problems.\n",
    "\n",
    "Clustered Centroid Method will take longer to run than Random Undersampler Method because the way it generates new datapoints while Random Undersampler just randomly removes datapoints.\n",
    "\n",
    "But before we undersample the data, lets see what the baseline metrics are using logistic regression model on the imbalanced dataset."
   ]
  },
  {
   "cell_type": "code",
   "execution_count": 314,
   "metadata": {
    "execution": {
     "iopub.execute_input": "2020-12-20T07:20:01.550187Z",
     "iopub.status.busy": "2020-12-20T07:20:01.549878Z",
     "iopub.status.idle": "2020-12-20T07:20:11.376880Z",
     "shell.execute_reply": "2020-12-20T07:20:11.376109Z",
     "shell.execute_reply.started": "2020-12-20T07:20:01.550154Z"
    }
   },
   "outputs": [],
   "source": [
    "# train test split on dataset with 70-30 split\n",
    "X_train, X_test, y_train, y_test = train_test_split(X,\n",
    "                                                    y,\n",
    "                                                    test_size=0.3,\n",
    "                                                    stratify=y,\n",
    "                                                    random_state=616)"
   ]
  },
  {
   "cell_type": "code",
   "execution_count": 315,
   "metadata": {
    "execution": {
     "iopub.execute_input": "2020-12-20T07:20:11.378670Z",
     "iopub.status.busy": "2020-12-20T07:20:11.378454Z",
     "iopub.status.idle": "2020-12-20T07:20:26.976891Z",
     "shell.execute_reply": "2020-12-20T07:20:26.974497Z",
     "shell.execute_reply.started": "2020-12-20T07:20:11.378646Z"
    }
   },
   "outputs": [],
   "source": [
    "# Instantiate the model\n",
    "log_model = LogisticRegression()\n",
    "\n",
    "# Fit the model\n",
    "log_model = log_model.fit(X_train, y_train)\n",
    "\n",
    "# Predict/Score\n",
    "train_score = log_model.score(X_train,y_train)\n",
    "test_score = log_model.score(X_test,y_test)"
   ]
  },
  {
   "cell_type": "code",
   "execution_count": 316,
   "metadata": {
    "execution": {
     "iopub.execute_input": "2020-12-20T07:20:26.980015Z",
     "iopub.status.busy": "2020-12-20T07:20:26.979708Z",
     "iopub.status.idle": "2020-12-20T07:20:26.988663Z",
     "shell.execute_reply": "2020-12-20T07:20:26.986051Z",
     "shell.execute_reply.started": "2020-12-20T07:20:26.979986Z"
    }
   },
   "outputs": [
    {
     "name": "stdout",
     "output_type": "stream",
     "text": [
      "Train Accuracy: 0.93348\n",
      "Test Accuracy:  0.93348 \n",
      "\n"
     ]
    }
   ],
   "source": [
    "print(f'Train Accuracy: {train_score:.5f}')\n",
    "print(f'Test Accuracy:  {test_score:.5f}', '\\n')"
   ]
  },
  {
   "cell_type": "markdown",
   "metadata": {},
   "source": [
    "The train and test accuracy on our model looks amazing at 93%! But lets take a look at the confusion matrix to see the precision and recall. "
   ]
  },
  {
   "cell_type": "code",
   "execution_count": 33,
   "metadata": {
    "execution": {
     "iopub.execute_input": "2020-12-20T03:25:55.829001Z",
     "iopub.status.busy": "2020-12-20T03:25:55.828597Z",
     "iopub.status.idle": "2020-12-20T03:26:02.096765Z",
     "shell.execute_reply": "2020-12-20T03:26:02.095747Z",
     "shell.execute_reply.started": "2020-12-20T03:25:55.828971Z"
    }
   },
   "outputs": [
    {
     "data": {
      "image/png": "[encoded data removed]",
      "text/plain": [
       "<Figure size 432x288 with 2 Axes>"
      ]
     },
     "metadata": {
      "needs_background": "light"
     },
     "output_type": "display_data"
    },
    {
     "data": {
      "image/png": "[encoded data removed]",
      "text/plain": [
       "<Figure size 432x288 with 2 Axes>"
      ]
     },
     "metadata": {
      "needs_background": "light"
     },
     "output_type": "display_data"
    }
   ],
   "source": [
    "# ConfusionMatrixDisplay\n",
    "from sklearn.metrics import confusion_matrix\n",
    "from sklearn.metrics import ConfusionMatrixDisplay\n",
    "\n",
    "# Saving Prediction Scores\n",
    "y_train_pred = log_model.predict(X_train)\n",
    "y_test_pred = log_model.predict(X_test)\n",
    "\n",
    "# Confusion matrices\n",
    "train_cfmatrix = confusion_matrix(y_train, y_train_pred)\n",
    "test_cfmatrix = confusion_matrix(y_test, y_test_pred)\n",
    "\n",
    "# Base dataset ConfusionMatrixDisplay\n",
    "\n",
    "# Train\n",
    "ConfusionMatrixDisplay(train_cfmatrix).plot()\n",
    "plt.title('Confusion Train Matrix for Log Regression Model')\n",
    "plt.show()\n",
    "\n",
    "# Test\n",
    "ConfusionMatrixDisplay(test_cfmatrix).plot()\n",
    "plt.title('Confusion Test Matrix for Log Regression Model')\n",
    "plt.show()"
   ]
  },
  {
   "cell_type": "code",
   "execution_count": 35,
   "metadata": {
    "execution": {
     "iopub.execute_input": "2020-12-20T03:27:33.590148Z",
     "iopub.status.busy": "2020-12-20T03:27:33.589812Z",
     "iopub.status.idle": "2020-12-20T03:27:35.971560Z",
     "shell.execute_reply": "2020-12-20T03:27:35.970847Z",
     "shell.execute_reply.started": "2020-12-20T03:27:33.590105Z"
    }
   },
   "outputs": [
    {
     "name": "stdout",
     "output_type": "stream",
     "text": [
      "              precision    recall  f1-score   support\n",
      "\n",
      "           0       0.93      1.00      0.97   1408857\n",
      "           1       0.00      0.00      0.00    100397\n",
      "\n",
      "    accuracy                           0.93   1509254\n",
      "   macro avg       0.47      0.50      0.48   1509254\n",
      "weighted avg       0.87      0.93      0.90   1509254\n",
      "\n"
     ]
    }
   ],
   "source": [
    "from sklearn.metrics import classification_report\n",
    "\n",
    "base_report = classification_report(y_test, y_test_pred)\n",
    "print(base_report)"
   ]
  },
  {
   "cell_type": "markdown",
   "metadata": {},
   "source": [
    "From the classification report, it appears that the precision and recall for negative class was 93% and 100% respectively however it failed to even capture even 1 datapoint of the positive class!\n",
    "\n",
    "This proves that we need to rebalance the dataset in order to have the model be effective."
   ]
  },
  {
   "cell_type": "markdown",
   "metadata": {},
   "source": [
    "### Undersample the Data"
   ]
  },
  {
   "cell_type": "markdown",
   "metadata": {},
   "source": [
    "Before we begin to undersample the dataset, I will need to take a subsample first in order for the Cluster Centroid Method to run in a reasonable amount of time. Once we test which method of undersampling gives us a better F1 score, then we will use that method for the overall undersampling of the data."
   ]
  },
  {
   "cell_type": "code",
   "execution_count": 36,
   "metadata": {
    "execution": {
     "iopub.execute_input": "2020-12-20T04:00:35.494179Z",
     "iopub.status.busy": "2020-12-20T04:00:35.493897Z",
     "iopub.status.idle": "2020-12-20T04:00:35.593487Z",
     "shell.execute_reply": "2020-12-20T04:00:35.592672Z",
     "shell.execute_reply.started": "2020-12-20T04:00:35.494144Z"
    }
   },
   "outputs": [
    {
     "name": "stdout",
     "output_type": "stream",
     "text": [
      "Distribution of dependent variable:\n",
      "\n",
      "0    4696187\n",
      "1     334657\n",
      "Name: Late Return, dtype: int64\n",
      "\n",
      "----------\n",
      "\n",
      "Pecentage of the distribution:\n",
      "\n",
      "0    0.933479\n",
      "1    0.066521\n",
      "Name: Late Return, dtype: float64\n"
     ]
    }
   ],
   "source": [
    "print('Distribution of dependent variable:\\n')\n",
    "print(y.value_counts())\n",
    "print('\\n----------\\n')\n",
    "print('Pecentage of the distribution:\\n')\n",
    "print(y.value_counts()/(len(y)))"
   ]
  },
  {
   "cell_type": "code",
   "execution_count": 37,
   "metadata": {
    "execution": {
     "iopub.execute_input": "2020-12-20T04:00:46.190612Z",
     "iopub.status.busy": "2020-12-20T04:00:46.190349Z",
     "iopub.status.idle": "2020-12-20T04:00:51.946448Z",
     "shell.execute_reply": "2020-12-20T04:00:51.945576Z",
     "shell.execute_reply.started": "2020-12-20T04:00:46.190585Z"
    }
   },
   "outputs": [],
   "source": [
    "# Subsample 1% of the df so it is easier to work with for our machine learning model\n",
    "df_remainder, df_sample = train_test_split(df, test_size=0.01, stratify=df['Late Return'])"
   ]
  },
  {
   "cell_type": "code",
   "execution_count": 38,
   "metadata": {
    "execution": {
     "iopub.execute_input": "2020-12-20T04:00:51.949434Z",
     "iopub.status.busy": "2020-12-20T04:00:51.948963Z",
     "iopub.status.idle": "2020-12-20T04:00:51.966869Z",
     "shell.execute_reply": "2020-12-20T04:00:51.966138Z",
     "shell.execute_reply.started": "2020-12-20T04:00:51.949388Z"
    }
   },
   "outputs": [],
   "source": [
    "# Reset index\n",
    "df_sample.reset_index(drop=True, inplace=True)"
   ]
  },
  {
   "cell_type": "code",
   "execution_count": 39,
   "metadata": {
    "execution": {
     "iopub.execute_input": "2020-12-20T04:01:08.868418Z",
     "iopub.status.busy": "2020-12-20T04:01:08.868096Z",
     "iopub.status.idle": "2020-12-20T04:01:08.901890Z",
     "shell.execute_reply": "2020-12-20T04:01:08.901148Z",
     "shell.execute_reply.started": "2020-12-20T04:01:08.868391Z"
    }
   },
   "outputs": [],
   "source": [
    "# Split the X and y variables once more\n",
    "smX = df_sample.drop(['Late Return'], axis=1)\n",
    "smy = df_sample['Late Return']"
   ]
  },
  {
   "cell_type": "code",
   "execution_count": 40,
   "metadata": {
    "execution": {
     "iopub.execute_input": "2020-12-20T04:01:11.814182Z",
     "iopub.status.busy": "2020-12-20T04:01:11.813854Z",
     "iopub.status.idle": "2020-12-20T04:01:11.826019Z",
     "shell.execute_reply": "2020-12-20T04:01:11.825243Z",
     "shell.execute_reply.started": "2020-12-20T04:01:11.814145Z"
    }
   },
   "outputs": [
    {
     "name": "stdout",
     "output_type": "stream",
     "text": [
      "Distribution of dependent variables:\n",
      "\n",
      "0    46962\n",
      "1     3347\n",
      "Name: Late Return, dtype: int64\n",
      "\n",
      "----------\n",
      "\n",
      "Pecentage of the distribution:\n",
      "\n",
      "0    0.933471\n",
      "1    0.066529\n",
      "Name: Late Return, dtype: float64\n"
     ]
    }
   ],
   "source": [
    "print('Distribution of dependent variable:\\n')\n",
    "print(smy.value_counts())\n",
    "print('\\n----------\\n')\n",
    "print('Pecentage of the distribution:\\n')\n",
    "print(smy.value_counts()/(len(smy)))"
   ]
  },
  {
   "cell_type": "code",
   "execution_count": 41,
   "metadata": {
    "execution": {
     "iopub.execute_input": "2020-12-20T04:01:47.624851Z",
     "iopub.status.busy": "2020-12-20T04:01:47.624592Z",
     "iopub.status.idle": "2020-12-20T04:08:46.765611Z",
     "shell.execute_reply": "2020-12-20T04:08:46.764628Z",
     "shell.execute_reply.started": "2020-12-20T04:01:47.624826Z"
    }
   },
   "outputs": [
    {
     "name": "stdout",
     "output_type": "stream",
     "text": [
      "Distribution of dependent variables:\n",
      "\n",
      "1    3347\n",
      "0    3347\n",
      "Name: Late Return, dtype: int64\n",
      "\n",
      "----------\n",
      "\n",
      "Pecentage of the distribution:\n",
      "\n",
      "1    0.5\n",
      "0    0.5\n",
      "Name: Late Return, dtype: float64\n"
     ]
    }
   ],
   "source": [
    "from imblearn.under_sampling import ClusterCentroids\n",
    "\n",
    "# Instantiate\n",
    "cc = ClusterCentroids(random_state=616)\n",
    "# Fit\n",
    "smX_cc, smy_cc = cc.fit_resample(smX, smy)\n",
    "# Display\n",
    "print('Distribution of dependent variables:\\n')\n",
    "print(smy_cc.value_counts())\n",
    "print('\\n----------\\n')\n",
    "print('Pecentage of the distribution:\\n')\n",
    "print(smy_cc.value_counts()/(len(smy_cc)))"
   ]
  },
  {
   "cell_type": "code",
   "execution_count": 42,
   "metadata": {
    "execution": {
     "iopub.execute_input": "2020-12-20T04:08:46.767588Z",
     "iopub.status.busy": "2020-12-20T04:08:46.767335Z",
     "iopub.status.idle": "2020-12-20T04:08:46.812001Z",
     "shell.execute_reply": "2020-12-20T04:08:46.811169Z",
     "shell.execute_reply.started": "2020-12-20T04:08:46.767562Z"
    }
   },
   "outputs": [
    {
     "name": "stdout",
     "output_type": "stream",
     "text": [
      "Distribution of dependent variables:\n",
      "\n",
      "1    3347\n",
      "0    3347\n",
      "Name: Late Return, dtype: int64\n",
      "\n",
      "----------\n",
      "\n",
      "Pecentage of the distribution:\n",
      "\n",
      "1    0.5\n",
      "0    0.5\n",
      "Name: Late Return, dtype: float64\n"
     ]
    }
   ],
   "source": [
    "from imblearn.under_sampling import RandomUnderSampler\n",
    "\n",
    "# Instantiate\n",
    "rus = RandomUnderSampler(random_state=616)\n",
    "# Fit\n",
    "smX_rus, smy_rus = rus.fit_resample(smX, smy)\n",
    "# Display\n",
    "print('Distribution of dependent variables:\\n')\n",
    "print(smy_rus.value_counts())\n",
    "print('\\n----------\\n')\n",
    "print('Pecentage of the distribution:\\n')\n",
    "print(smy_rus.value_counts()/(len(smy_rus)))"
   ]
  },
  {
   "cell_type": "code",
   "execution_count": 332,
   "metadata": {
    "execution": {
     "iopub.execute_input": "2020-12-20T08:08:59.916136Z",
     "iopub.status.busy": "2020-12-20T08:08:59.915860Z",
     "iopub.status.idle": "2020-12-20T08:08:59.934731Z",
     "shell.execute_reply": "2020-12-20T08:08:59.933952Z",
     "shell.execute_reply.started": "2020-12-20T08:08:59.916101Z"
    }
   },
   "outputs": [],
   "source": [
    "# train test split on ClusterCentroids resampled\n",
    "smX_train_cc, smX_test_cc, smy_train_cc, smy_test_cc = train_test_split(smX_cc,\n",
    "                                                                        smy_cc,\n",
    "                                                                        test_size=0.3,\n",
    "                                                                        stratify=smy_cc,\n",
    "                                                                        random_state=616)"
   ]
  },
  {
   "cell_type": "code",
   "execution_count": 44,
   "metadata": {
    "execution": {
     "iopub.execute_input": "2020-12-20T04:09:22.642218Z",
     "iopub.status.busy": "2020-12-20T04:09:22.641963Z",
     "iopub.status.idle": "2020-12-20T04:09:22.655476Z",
     "shell.execute_reply": "2020-12-20T04:09:22.654727Z",
     "shell.execute_reply.started": "2020-12-20T04:09:22.642192Z"
    }
   },
   "outputs": [],
   "source": [
    "# train test split on RandomUnderSampler resampled\n",
    "smX_train_rus, smX_test_rus, smy_train_rus, smy_test_rus = train_test_split(smX_rus,\n",
    "                                                                            smy_rus,\n",
    "                                                                            test_size=0.3,\n",
    "                                                                            stratify=smy_rus,\n",
    "                                                                            random_state=616)"
   ]
  },
  {
   "cell_type": "code",
   "execution_count": 45,
   "metadata": {
    "execution": {
     "iopub.execute_input": "2020-12-20T04:09:23.260171Z",
     "iopub.status.busy": "2020-12-20T04:09:23.259812Z",
     "iopub.status.idle": "2020-12-20T04:09:23.378987Z",
     "shell.execute_reply": "2020-12-20T04:09:23.378217Z",
     "shell.execute_reply.started": "2020-12-20T04:09:23.260133Z"
    }
   },
   "outputs": [],
   "source": [
    "# Instantiate the model\n",
    "log_model = LogisticRegression()\n",
    "\n",
    "# Fit the model\n",
    "smlog_model_cc = log_model.fit(smX_train_cc, smy_train_cc)\n",
    "smlog_model_rus = log_model.fit(smX_train_rus, smy_train_rus)\n",
    "\n",
    "#Predict/Score\n",
    "smtrain_score_cc = smlog_model_cc.score(smX_train_cc,smy_train_cc)\n",
    "smtest_score_cc = smlog_model_cc.score(smX_test_cc,smy_test_cc)\n",
    "smtrain_score_rus = smlog_model_rus.score(smX_train_rus,smy_train_rus)\n",
    "smtest_score_rus = smlog_model_rus.score(smX_test_rus,smy_test_rus)"
   ]
  },
  {
   "cell_type": "code",
   "execution_count": 46,
   "metadata": {
    "execution": {
     "iopub.execute_input": "2020-12-20T04:09:23.983746Z",
     "iopub.status.busy": "2020-12-20T04:09:23.983463Z",
     "iopub.status.idle": "2020-12-20T04:09:23.988957Z",
     "shell.execute_reply": "2020-12-20T04:09:23.987702Z",
     "shell.execute_reply.started": "2020-12-20T04:09:23.983719Z"
    }
   },
   "outputs": [
    {
     "name": "stdout",
     "output_type": "stream",
     "text": [
      "CCLog Regression Train Accuracy: 0.77609\n",
      "CCLog Regression Test Accuracy:  0.78298 \n",
      "\n",
      "------------------------------------------------------------\n",
      "\n",
      "RUSLog Regression Train Accuracy: 0.70309\n",
      "RUSLog Regression Test Accuracy:  0.70134 \n",
      "\n"
     ]
    }
   ],
   "source": [
    "print(f'CCLog Regression Train Accuracy: {smtrain_score_cc:.5f}')\n",
    "print(f'CCLog Regression Test Accuracy:  {smtest_score_cc:.5f}', '\\n')\n",
    "print('------------------------------------------------------------\\n')\n",
    "print(f'RUSLog Regression Train Accuracy: {smtrain_score_rus:.5f}')\n",
    "print(f'RUSLog Regression Test Accuracy:  {smtest_score_rus:.5f}', '\\n')"
   ]
  },
  {
   "cell_type": "markdown",
   "metadata": {},
   "source": [
    "This logistic model looks more promising where the train and test accuracy seem more reasonable. There seems to be some minor overfitting with RandomUnderSampling however. Lets take at look at the confusion matrices and classfication report."
   ]
  },
  {
   "cell_type": "code",
   "execution_count": 47,
   "metadata": {
    "execution": {
     "iopub.execute_input": "2020-12-20T04:09:24.552159Z",
     "iopub.status.busy": "2020-12-20T04:09:24.551864Z",
     "iopub.status.idle": "2020-12-20T04:09:25.626734Z",
     "shell.execute_reply": "2020-12-20T04:09:25.625968Z",
     "shell.execute_reply.started": "2020-12-20T04:09:24.552131Z"
    }
   },
   "outputs": [
    {
     "data": {
      "image/png": "[encoded data removed]",
      "text/plain": [
       "<Figure size 432x288 with 2 Axes>"
      ]
     },
     "metadata": {
      "needs_background": "light"
     },
     "output_type": "display_data"
    },
    {
     "data": {
      "image/png": "[encoded data removed]",
      "text/plain": [
       "<Figure size 432x288 with 2 Axes>"
      ]
     },
     "metadata": {
      "needs_background": "light"
     },
     "output_type": "display_data"
    },
    {
     "data": {
      "image/png": "[encoded data removed]",
      "text/plain": [
       "<Figure size 432x288 with 2 Axes>"
      ]
     },
     "metadata": {
      "needs_background": "light"
     },
     "output_type": "display_data"
    },
    {
     "data": {
      "image/png": "[encoded data removed]",
      "text/plain": [
       "<Figure size 432x288 with 2 Axes>"
      ]
     },
     "metadata": {
      "needs_background": "light"
     },
     "output_type": "display_data"
    }
   ],
   "source": [
    "# Saving Prediction Scores\n",
    "smy_train_pred_cc = smlog_model_cc.predict(smX_train_cc)\n",
    "smy_test_pred_cc = smlog_model_cc.predict(smX_test_cc)\n",
    "smy_train_pred_rus = smlog_model_rus.predict(smX_train_rus)\n",
    "smy_test_pred_rus = smlog_model_rus.predict(smX_test_rus)\n",
    "\n",
    "# Confusion matrices\n",
    "smtrain_cfmatrix_cc = confusion_matrix(smy_train_cc, smy_train_pred_cc)\n",
    "smtest_cfmatrix_cc = confusion_matrix(smy_test_cc, smy_test_pred_cc)\n",
    "smtrain_cfmatrix_rus = confusion_matrix(smy_train_cc, smy_train_pred_rus)\n",
    "smtest_cfmatrix_rus = confusion_matrix(smy_test_cc, smy_test_pred_rus)\n",
    "\n",
    "# ClusterCentroids Downsampling ConfusionMatrixDisplay\n",
    "\n",
    "# Train\n",
    "ConfusionMatrixDisplay(smtrain_cfmatrix_cc).plot()\n",
    "plt.title('Confusion Train Matrix for Log Regression Model w/ ClusterCentroids Downsampling')\n",
    "plt.show()\n",
    "\n",
    "# Test\n",
    "ConfusionMatrixDisplay(smtest_cfmatrix_cc).plot()\n",
    "plt.title('Confusion Test Matrix for Log Regression Model w/ ClusterCentroids Downsampling')\n",
    "plt.show()\n",
    "\n",
    "# RandomUnderSampler Downsampling ConfusionMatrixDisplay\n",
    "\n",
    "# Train\n",
    "ConfusionMatrixDisplay(smtrain_cfmatrix_rus).plot()\n",
    "plt.title('Confusion Train Matrix for Log Regression Model w/ RandomUnderSampler Downsampling')\n",
    "plt.show()\n",
    "\n",
    "# Test\n",
    "ConfusionMatrixDisplay(smtest_cfmatrix_rus).plot()\n",
    "plt.title('Confusion Test Matrix for Log Regression Model w/ RandomUnderSampler Downsampling')\n",
    "plt.show()"
   ]
  },
  {
   "cell_type": "code",
   "execution_count": 48,
   "metadata": {
    "execution": {
     "iopub.execute_input": "2020-12-20T04:09:25.628588Z",
     "iopub.status.busy": "2020-12-20T04:09:25.628280Z",
     "iopub.status.idle": "2020-12-20T04:09:25.648693Z",
     "shell.execute_reply": "2020-12-20T04:09:25.647922Z",
     "shell.execute_reply.started": "2020-12-20T04:09:25.628558Z"
    }
   },
   "outputs": [
    {
     "name": "stdout",
     "output_type": "stream",
     "text": [
      "Classification Report for Test Data w/ ClusterCentroids Downsampling\n",
      "\n",
      "              precision    recall  f1-score   support\n",
      "\n",
      "           0       0.82      0.73      0.77      1005\n",
      "           1       0.75      0.84      0.79      1004\n",
      "\n",
      "    accuracy                           0.78      2009\n",
      "   macro avg       0.79      0.78      0.78      2009\n",
      "weighted avg       0.79      0.78      0.78      2009\n",
      "\n",
      "------------------------------------------------------------\n",
      "\n",
      "Classification Report for Test Data w/ RandomUnderSampler Downsampling\n",
      "\n",
      "              precision    recall  f1-score   support\n",
      "\n",
      "           0       0.78      0.56      0.65      1005\n",
      "           1       0.66      0.84      0.74      1004\n",
      "\n",
      "    accuracy                           0.70      2009\n",
      "   macro avg       0.72      0.70      0.70      2009\n",
      "weighted avg       0.72      0.70      0.70      2009\n",
      "\n"
     ]
    }
   ],
   "source": [
    "from sklearn.metrics import classification_report\n",
    "\n",
    "class_report_smtest_cc = classification_report(smy_test_cc, smy_test_pred_cc)\n",
    "class_report_smtest_rus = classification_report(smy_test_rus, smy_test_pred_rus)\n",
    "\n",
    "print('Classification Report for Test Data w/ ClusterCentroids Downsampling\\n')\n",
    "print(class_report_smtest_cc)\n",
    "print('------------------------------------------------------------\\n')\n",
    "print('Classification Report for Test Data w/ RandomUnderSampler Downsampling\\n')\n",
    "print(class_report_smtest_rus)"
   ]
  },
  {
   "cell_type": "markdown",
   "metadata": {},
   "source": [
    "It appears that the ClusterCentroid Method performed better than the RandomUnderSampler Method based on the F1 score where RandomUnderSampler only scored 65% for negative classification and 74% positive classification on the test data while ClusterCentroid scored 77% for negative classification and 79% for positive classification on the test data.\n",
    "\n",
    "Therefore I will be using the ClusterCentroid Method on the full dataset and rerun the logistic regression model. However in the interest in time, I will continue to use the subsample and see if I can get better accuracy by scaling the data and hyperparameter tuning."
   ]
  },
  {
   "cell_type": "markdown",
   "metadata": {},
   "source": [
    "### Scaling the Data"
   ]
  },
  {
   "cell_type": "code",
   "execution_count": 291,
   "metadata": {
    "execution": {
     "iopub.execute_input": "2020-12-20T07:05:18.397460Z",
     "iopub.status.busy": "2020-12-20T07:05:18.397175Z",
     "iopub.status.idle": "2020-12-20T07:05:18.616158Z",
     "shell.execute_reply": "2020-12-20T07:05:18.615321Z",
     "shell.execute_reply.started": "2020-12-20T07:05:18.397433Z"
    }
   },
   "outputs": [],
   "source": [
    "# Instantiate scaler\n",
    "std_scaler = StandardScaler()\n",
    "mm_scaler = MinMaxScaler()\n",
    "rb_scaler = RobustScaler()\n",
    "\n",
    "# Fit scaler\n",
    "std_scaler = std_scaler.fit(smX_train_cc)\n",
    "mm_scaler = mm_scaler.fit(smX_train_cc)\n",
    "rb_scaler = rb_scaler.fit(smX_train_cc)\n",
    "\n",
    "# Transform data\n",
    "ss_smX_train_cc = std_scaler.transform(smX_train_cc)\n",
    "ss_smX_test_cc = std_scaler.transform(smX_test_cc)\n",
    "mm_smX_train_cc = mm_scaler.transform(smX_train_cc)\n",
    "mm_smX_test_cc = mm_scaler.transform(smX_test_cc)\n",
    "rb_smX_train_cc = rb_scaler.transform(smX_train_cc)\n",
    "rb_smX_test_cc = rb_scaler.transform(smX_test_cc)\n",
    "\n",
    "# Instantiate the model\n",
    "log_model = LogisticRegression()\n",
    "\n",
    "# Fit the model\n",
    "ss_smlog_model_cc = log_model.fit(ss_smX_train_cc, smy_train_cc)\n",
    "mm_smlog_model_cc = log_model.fit(mm_smX_train_cc, smy_train_cc)\n",
    "rb_smlog_model_cc = log_model.fit(rb_smX_train_cc, smy_train_cc)\n",
    "\n",
    "#Predict/Score\n",
    "ss_smtrain_score_cc = ss_smlog_model_cc.score(ss_smX_train_cc,smy_train_cc)\n",
    "ss_smtest_score_cc = ss_smlog_model_cc.score(ss_smX_test_cc,smy_test_cc)\n",
    "mm_smtrain_score_cc = mm_smlog_model_cc.score(mm_smX_train_cc,smy_train_cc)\n",
    "mm_smtest_score_cc = mm_smlog_model_cc.score(mm_smX_test_cc,smy_test_cc)\n",
    "rb_smtrain_score_cc = rb_smlog_model_cc.score(rb_smX_train_cc,smy_train_cc)\n",
    "rb_smtest_score_cc = rb_smlog_model_cc.score(rb_smX_test_cc,smy_test_cc)"
   ]
  },
  {
   "cell_type": "code",
   "execution_count": 292,
   "metadata": {
    "execution": {
     "iopub.execute_input": "2020-12-20T07:05:19.672332Z",
     "iopub.status.busy": "2020-12-20T07:05:19.672014Z",
     "iopub.status.idle": "2020-12-20T07:05:19.678354Z",
     "shell.execute_reply": "2020-12-20T07:05:19.677470Z",
     "shell.execute_reply.started": "2020-12-20T07:05:19.672305Z"
    }
   },
   "outputs": [
    {
     "name": "stdout",
     "output_type": "stream",
     "text": [
      "CCLog Regression w/ Standard Scaling Train Accuracy: 0.93810\n",
      "CCLog Regression w/ Standard Scaling Test Accuracy:  0.94873 \n",
      "\n",
      "------------------------------------------------------------\n",
      "\n",
      "CCLog Regression w/ MinMax Scaling Train Accuracy: 0.74963\n",
      "CCLog Regression w/ MinMax Scaling Test Accuracy:  0.75709 \n",
      "\n",
      "------------------------------------------------------------\n",
      "\n",
      "CCLog Regression w/ Robust Scaling Train Accuracy: 0.95454\n",
      "CCLog Regression w/ Robust Scaling Test Accuracy:  0.94973 \n",
      "\n"
     ]
    }
   ],
   "source": [
    "print(f'CCLog Regression w/ Standard Scaling Train Accuracy: {ss_smtrain_score_cc:.5f}')\n",
    "print(f'CCLog Regression w/ Standard Scaling Test Accuracy:  {ss_smtest_score_cc:.5f}', '\\n')\n",
    "print('------------------------------------------------------------\\n')\n",
    "print(f'CCLog Regression w/ MinMax Scaling Train Accuracy: {mm_smtrain_score_cc:.5f}')\n",
    "print(f'CCLog Regression w/ MinMax Scaling Test Accuracy:  {mm_smtest_score_cc:.5f}', '\\n')\n",
    "print('------------------------------------------------------------\\n')\n",
    "print(f'CCLog Regression w/ Robust Scaling Train Accuracy: {rb_smtrain_score_cc:.5f}')\n",
    "print(f'CCLog Regression w/ Robust Scaling Test Accuracy:  {rb_smtest_score_cc:.5f}', '\\n')"
   ]
  },
  {
   "cell_type": "code",
   "execution_count": 293,
   "metadata": {
    "execution": {
     "iopub.execute_input": "2020-12-20T07:05:21.717254Z",
     "iopub.status.busy": "2020-12-20T07:05:21.716979Z",
     "iopub.status.idle": "2020-12-20T07:05:23.265673Z",
     "shell.execute_reply": "2020-12-20T07:05:23.264831Z",
     "shell.execute_reply.started": "2020-12-20T07:05:21.717227Z"
    }
   },
   "outputs": [
    {
     "data": {
      "image/png": "[encoded data removed]",
      "text/plain": [
       "<Figure size 432x288 with 2 Axes>"
      ]
     },
     "metadata": {
      "needs_background": "light"
     },
     "output_type": "display_data"
    },
    {
     "data": {
      "image/png": "[encoded data removed]",
      "text/plain": [
       "<Figure size 432x288 with 2 Axes>"
      ]
     },
     "metadata": {
      "needs_background": "light"
     },
     "output_type": "display_data"
    },
    {
     "data": {
      "image/png": "[encoded data removed]",
      "text/plain": [
       "<Figure size 432x288 with 2 Axes>"
      ]
     },
     "metadata": {
      "needs_background": "light"
     },
     "output_type": "display_data"
    },
    {
     "data": {
      "image/png": "[encoded data removed]",
      "text/plain": [
       "<Figure size 432x288 with 2 Axes>"
      ]
     },
     "metadata": {
      "needs_background": "light"
     },
     "output_type": "display_data"
    },
    {
     "data": {
      "image/png": "[encoded data removed]",
      "text/plain": [
       "<Figure size 432x288 with 2 Axes>"
      ]
     },
     "metadata": {
      "needs_background": "light"
     },
     "output_type": "display_data"
    },
    {
     "data": {
      "image/png": "[encoded data removed]",
      "text/plain": [
       "<Figure size 432x288 with 2 Axes>"
      ]
     },
     "metadata": {
      "needs_background": "light"
     },
     "output_type": "display_data"
    }
   ],
   "source": [
    "# Saving Prediction Scores\n",
    "ss_smy_train_pred_cc = ss_smlog_model_cc.predict(ss_smX_train_cc)\n",
    "ss_smy_test_pred_cc = ss_smlog_model_cc.predict(ss_smX_test_cc)\n",
    "mm_smy_train_pred_cc = mm_smlog_model_cc.predict(mm_smX_train_cc)\n",
    "mm_smy_test_pred_cc = mm_smlog_model_cc.predict(mm_smX_test_cc)\n",
    "rb_smy_train_pred_cc = rb_smlog_model_cc.predict(rb_smX_train_cc)\n",
    "rb_smy_test_pred_cc = rb_smlog_model_cc.predict(rb_smX_test_cc)\n",
    "\n",
    "# Confusion matrices\n",
    "ss_smtrain_cfmatrix_cc = confusion_matrix(smy_train_cc, ss_smy_train_pred_cc)\n",
    "ss_smtest_cfmatrix_cc = confusion_matrix(smy_test_cc, ss_smy_test_pred_cc)\n",
    "mm_smtrain_cfmatrix_cc = confusion_matrix(smy_train_cc, mm_smy_train_pred_cc)\n",
    "mm_smtest_cfmatrix_cc = confusion_matrix(smy_test_cc, mm_smy_test_pred_cc)\n",
    "rb_smtrain_cfmatrix_cc = confusion_matrix(smy_train_cc, rb_smy_train_pred_cc)\n",
    "rb_smtest_cfmatrix_cc = confusion_matrix(smy_test_cc, rb_smy_test_pred_cc)\n",
    "\n",
    "# Standard Scaling ConfusionMatrixDisplay\n",
    "\n",
    "# Train\n",
    "ConfusionMatrixDisplay(ss_smtrain_cfmatrix_cc).plot()\n",
    "plt.title('Confusion Train Matrix for Log Regression Model w/ ClusterCentroids Downsampling & Standard Scaling')\n",
    "plt.show()\n",
    "\n",
    "# Test\n",
    "ConfusionMatrixDisplay(ss_smtest_cfmatrix_cc).plot()\n",
    "plt.title('Confusion Test Matrix for Log Regression Model w/ ClusterCentroids Downsampling & Standard Scaling')\n",
    "plt.show()\n",
    "\n",
    "# MinMax Scaling ConfusionMatrixDisplay \n",
    "\n",
    "# Train\n",
    "ConfusionMatrixDisplay(mm_smtrain_cfmatrix_cc).plot()\n",
    "plt.title('Confusion Train Matrix for Log Regression Model w/ ClusterCentroids Downsampling & MinMax Scaling')\n",
    "plt.show()\n",
    "\n",
    "# Test\n",
    "ConfusionMatrixDisplay(mm_smtest_cfmatrix_cc).plot()\n",
    "plt.title('Confusion Test Matrix for Log Regression Model w/ ClusterCentroids Downsampling & MinMax Scaling')\n",
    "plt.show()\n",
    "\n",
    "# Robust Scaling ConfusionMatrixDisplay \n",
    "\n",
    "# Train\n",
    "ConfusionMatrixDisplay(rb_smtrain_cfmatrix_cc).plot()\n",
    "plt.title('Confusion Train Matrix for Log Regression Model w/ ClusterCentroids Downsampling & Robust Scaling')\n",
    "plt.show()\n",
    "\n",
    "# Test\n",
    "ConfusionMatrixDisplay(rb_smtest_cfmatrix_cc).plot()\n",
    "plt.title('Confusion Test Matrix for Log Regression Model w/ ClusterCentroids Downsampling & Robust Scaling')\n",
    "plt.show()"
   ]
  },
  {
   "cell_type": "code",
   "execution_count": 294,
   "metadata": {
    "execution": {
     "iopub.execute_input": "2020-12-20T07:05:25.287186Z",
     "iopub.status.busy": "2020-12-20T07:05:25.286844Z",
     "iopub.status.idle": "2020-12-20T07:05:25.344110Z",
     "shell.execute_reply": "2020-12-20T07:05:25.343393Z",
     "shell.execute_reply.started": "2020-12-20T07:05:25.287153Z"
    }
   },
   "outputs": [
    {
     "name": "stdout",
     "output_type": "stream",
     "text": [
      "Classification Report for Test Data w/ ClusterCentroids & Standard Scaling\n",
      "\n",
      "              precision    recall  f1-score   support\n",
      "\n",
      "           0       0.91      0.99      0.95      1005\n",
      "           1       0.99      0.90      0.95      1004\n",
      "\n",
      "    accuracy                           0.95      2009\n",
      "   macro avg       0.95      0.95      0.95      2009\n",
      "weighted avg       0.95      0.95      0.95      2009\n",
      "\n",
      "------------------------------------------------------------\n",
      "\n",
      "Classification Report for Test Data w/ ClusterCentroids & MinMax Scaling \n",
      "\n",
      "              precision    recall  f1-score   support\n",
      "\n",
      "           0       1.00      0.52      0.68      1005\n",
      "           1       0.67      1.00      0.80      1004\n",
      "\n",
      "    accuracy                           0.76      2009\n",
      "   macro avg       0.83      0.76      0.74      2009\n",
      "weighted avg       0.83      0.76      0.74      2009\n",
      "\n",
      "------------------------------------------------------------\n",
      "\n",
      "Classification Report for Test Data w/ ClusterCentroids & Robust Scaling \n",
      "\n",
      "              precision    recall  f1-score   support\n",
      "\n",
      "           0       0.94      0.96      0.95      1005\n",
      "           1       0.95      0.94      0.95      1004\n",
      "\n",
      "    accuracy                           0.95      2009\n",
      "   macro avg       0.95      0.95      0.95      2009\n",
      "weighted avg       0.95      0.95      0.95      2009\n",
      "\n"
     ]
    }
   ],
   "source": [
    "# Classification Reports\n",
    "class_report_ss_smtrain_cc = classification_report(smy_train_cc, ss_smy_train_pred_cc)\n",
    "class_report_ss_smtest_cc = classification_report(smy_test_cc, ss_smy_test_pred_cc)\n",
    "class_report_mm_smtrain_cc = classification_report(smy_train_cc, mm_smy_train_pred_cc)\n",
    "class_report_mm_smtest_cc = classification_report(smy_test_cc, mm_smy_test_pred_cc)\n",
    "class_report_rb_smtrain_cc = classification_report(smy_train_cc, rb_smy_train_pred_cc)\n",
    "class_report_rb_smtest_cc = classification_report(smy_test_cc, rb_smy_test_pred_cc)\n",
    "\n",
    "print('Classification Report for Test Data w/ ClusterCentroids & Standard Scaling\\n')\n",
    "print(class_report_ss_smtest_cc)\n",
    "print('------------------------------------------------------------\\n')\n",
    "print('Classification Report for Test Data w/ ClusterCentroids & MinMax Scaling \\n')\n",
    "print(class_report_mm_smtest_cc)\n",
    "print('------------------------------------------------------------\\n')\n",
    "print('Classification Report for Test Data w/ ClusterCentroids & Robust Scaling \\n')\n",
    "print(class_report_rb_smtest_cc)"
   ]
  },
  {
   "cell_type": "markdown",
   "metadata": {},
   "source": [
    "It looks like with MinMax Scaling the logistic model is performing exceptionally well with an F1 score of 95%! Let's take a look at the coefficients to see which feature is contributing to this high level of model accuracy as well as precision and recall."
   ]
  },
  {
   "cell_type": "code",
   "execution_count": 295,
   "metadata": {
    "execution": {
     "iopub.execute_input": "2020-12-20T07:05:30.987328Z",
     "iopub.status.busy": "2020-12-20T07:05:30.987008Z",
     "iopub.status.idle": "2020-12-20T07:05:31.599053Z",
     "shell.execute_reply": "2020-12-20T07:05:31.598331Z",
     "shell.execute_reply.started": "2020-12-20T07:05:30.987287Z"
    }
   },
   "outputs": [
    {
     "data": {
      "text/html": [
       "<div>\n",
       "<style scoped>\n",
       "    .dataframe tbody tr th:only-of-type {\n",
       "        vertical-align: middle;\n",
       "    }\n",
       "\n",
       "    .dataframe tbody tr th {\n",
       "        vertical-align: top;\n",
       "    }\n",
       "\n",
       "    .dataframe thead th {\n",
       "        text-align: right;\n",
       "    }\n",
       "</style>\n",
       "<table border=\"1\" class=\"dataframe\">\n",
       "  <thead>\n",
       "    <tr style=\"text-align: right;\">\n",
       "      <th></th>\n",
       "      <th>coefficient</th>\n",
       "      <th>odds_ratio</th>\n",
       "    </tr>\n",
       "  </thead>\n",
       "  <tbody>\n",
       "    <tr>\n",
       "      <th>Trip Within FSA</th>\n",
       "      <td>4.133740</td>\n",
       "      <td>62.410916</td>\n",
       "    </tr>\n",
       "    <tr>\n",
       "      <th>Rush Hour</th>\n",
       "      <td>3.606064</td>\n",
       "      <td>36.820826</td>\n",
       "    </tr>\n",
       "    <tr>\n",
       "      <th>Start Station Accepts Credit Card</th>\n",
       "      <td>3.307170</td>\n",
       "      <td>27.307736</td>\n",
       "    </tr>\n",
       "    <tr>\n",
       "      <th>End Station Accepts Credit Card</th>\n",
       "      <td>3.185227</td>\n",
       "      <td>24.172770</td>\n",
       "    </tr>\n",
       "    <tr>\n",
       "      <th>Subscription Id</th>\n",
       "      <td>2.486237</td>\n",
       "      <td>12.015976</td>\n",
       "    </tr>\n",
       "    <tr>\n",
       "      <th>Spring</th>\n",
       "      <td>2.006703</td>\n",
       "      <td>7.438755</td>\n",
       "    </tr>\n",
       "    <tr>\n",
       "      <th>Winter</th>\n",
       "      <td>1.547510</td>\n",
       "      <td>4.699754</td>\n",
       "    </tr>\n",
       "    <tr>\n",
       "      <th>Summer</th>\n",
       "      <td>1.150459</td>\n",
       "      <td>3.159642</td>\n",
       "    </tr>\n",
       "    <tr>\n",
       "      <th>Holiday</th>\n",
       "      <td>1.130062</td>\n",
       "      <td>3.095849</td>\n",
       "    </tr>\n",
       "    <tr>\n",
       "      <th>Start Time Day</th>\n",
       "      <td>0.719957</td>\n",
       "      <td>2.054344</td>\n",
       "    </tr>\n",
       "    <tr>\n",
       "      <th>Start Station Id</th>\n",
       "      <td>0.562106</td>\n",
       "      <td>1.754364</td>\n",
       "    </tr>\n",
       "    <tr>\n",
       "      <th>Start Station Latitude</th>\n",
       "      <td>0.541479</td>\n",
       "      <td>1.718547</td>\n",
       "    </tr>\n",
       "    <tr>\n",
       "      <th>Start Time Hour</th>\n",
       "      <td>0.383044</td>\n",
       "      <td>1.466743</td>\n",
       "    </tr>\n",
       "    <tr>\n",
       "      <th>Start Time Month</th>\n",
       "      <td>0.344954</td>\n",
       "      <td>1.411925</td>\n",
       "    </tr>\n",
       "    <tr>\n",
       "      <th>End Station Id</th>\n",
       "      <td>0.340865</td>\n",
       "      <td>1.406163</td>\n",
       "    </tr>\n",
       "    <tr>\n",
       "      <th>Rel Hum (%)</th>\n",
       "      <td>0.161767</td>\n",
       "      <td>1.175586</td>\n",
       "    </tr>\n",
       "    <tr>\n",
       "      <th>End Station Latitude</th>\n",
       "      <td>0.111153</td>\n",
       "      <td>1.117566</td>\n",
       "    </tr>\n",
       "    <tr>\n",
       "      <th>Wind Spd (km/h)</th>\n",
       "      <td>0.105104</td>\n",
       "      <td>1.110826</td>\n",
       "    </tr>\n",
       "    <tr>\n",
       "      <th>End Station Capacity</th>\n",
       "      <td>0.055072</td>\n",
       "      <td>1.056616</td>\n",
       "    </tr>\n",
       "    <tr>\n",
       "      <th>End Station Elevation</th>\n",
       "      <td>0.028333</td>\n",
       "      <td>1.028738</td>\n",
       "    </tr>\n",
       "    <tr>\n",
       "      <th>Weekend</th>\n",
       "      <td>0.000000</td>\n",
       "      <td>1.000000</td>\n",
       "    </tr>\n",
       "    <tr>\n",
       "      <th>Start Station Longitude</th>\n",
       "      <td>-0.009436</td>\n",
       "      <td>0.990609</td>\n",
       "    </tr>\n",
       "    <tr>\n",
       "      <th>Start Station Capacity</th>\n",
       "      <td>-0.010215</td>\n",
       "      <td>0.989837</td>\n",
       "    </tr>\n",
       "    <tr>\n",
       "      <th>Bike Id</th>\n",
       "      <td>-0.031307</td>\n",
       "      <td>0.969178</td>\n",
       "    </tr>\n",
       "    <tr>\n",
       "      <th>End Station Longitude</th>\n",
       "      <td>-0.114387</td>\n",
       "      <td>0.891913</td>\n",
       "    </tr>\n",
       "    <tr>\n",
       "      <th>Temp (°C)</th>\n",
       "      <td>-0.311883</td>\n",
       "      <td>0.732067</td>\n",
       "    </tr>\n",
       "    <tr>\n",
       "      <th>Start Station Elevation</th>\n",
       "      <td>-0.392817</td>\n",
       "      <td>0.675152</td>\n",
       "    </tr>\n",
       "    <tr>\n",
       "      <th>Start Time Year</th>\n",
       "      <td>-0.762009</td>\n",
       "      <td>0.466728</td>\n",
       "    </tr>\n",
       "    <tr>\n",
       "      <th>Trip Id</th>\n",
       "      <td>-2.198562</td>\n",
       "      <td>0.110963</td>\n",
       "    </tr>\n",
       "    <tr>\n",
       "      <th>Is Member</th>\n",
       "      <td>-2.298569</td>\n",
       "      <td>0.100402</td>\n",
       "    </tr>\n",
       "  </tbody>\n",
       "</table>\n",
       "</div>"
      ],
      "text/plain": [
       "                                   coefficient  odds_ratio\n",
       "Trip Within FSA                       4.133740   62.410916\n",
       "Rush Hour                             3.606064   36.820826\n",
       "Start Station Accepts Credit Card     3.307170   27.307736\n",
       "End Station Accepts Credit Card       3.185227   24.172770\n",
       "Subscription Id                       2.486237   12.015976\n",
       "Spring                                2.006703    7.438755\n",
       "Winter                                1.547510    4.699754\n",
       "Summer                                1.150459    3.159642\n",
       "Holiday                               1.130062    3.095849\n",
       "Start Time Day                        0.719957    2.054344\n",
       "Start Station Id                      0.562106    1.754364\n",
       "Start Station Latitude                0.541479    1.718547\n",
       "Start Time Hour                       0.383044    1.466743\n",
       "Start Time Month                      0.344954    1.411925\n",
       "End Station Id                        0.340865    1.406163\n",
       "Rel Hum (%)                           0.161767    1.175586\n",
       "End Station Latitude                  0.111153    1.117566\n",
       "Wind Spd (km/h)                       0.105104    1.110826\n",
       "End Station Capacity                  0.055072    1.056616\n",
       "End Station Elevation                 0.028333    1.028738\n",
       "Weekend                               0.000000    1.000000\n",
       "Start Station Longitude              -0.009436    0.990609\n",
       "Start Station Capacity               -0.010215    0.989837\n",
       "Bike Id                              -0.031307    0.969178\n",
       "End Station Longitude                -0.114387    0.891913\n",
       "Temp (°C)                            -0.311883    0.732067\n",
       "Start Station Elevation              -0.392817    0.675152\n",
       "Start Time Year                      -0.762009    0.466728\n",
       "Trip Id                              -2.198562    0.110963\n",
       "Is Member                            -2.298569    0.100402"
      ]
     },
     "metadata": {},
     "output_type": "display_data"
    },
    {
     "data": {
      "image/png": "[encoded data removed]",
      "text/plain": [
       "<Figure size 1152x720 with 1 Axes>"
      ]
     },
     "metadata": {
      "needs_background": "light"
     },
     "output_type": "display_data"
    }
   ],
   "source": [
    "# Look at coefficients\n",
    "coefs_odds = pd.DataFrame(data={'coefficient': rb_smlog_model_cc.coef_[0],\n",
    "                               'odds_ratio': np.exp(rb_smlog_model_cc.coef_[0])},\n",
    "                          index=smX_test_cc.columns\n",
    "                         ).sort_values('coefficient', ascending=False)\n",
    "\n",
    "display(coefs_odds)\n",
    "\n",
    "plt.figure(figsize=(16, 10))\n",
    "# plt.bar(coefs_odds.index, coefs_odds['coefficient'], color='r')\n",
    "sns.barplot(x=coefs_odds.index, y=coefs_odds['coefficient'], palette='viridis')\n",
    "plt.xticks(rotation=90)\n",
    "plt.xlabel('Features')\n",
    "plt.ylabel('Regression Coefficients')\n",
    "plt.title('Feature Indicators')\n",
    "sns.despine()\n",
    "plt.tight_layout()\n",
    "plt.show()"
   ]
  },
  {
   "cell_type": "markdown",
   "metadata": {},
   "source": [
    "By the looks of the scale of the coefficients there seems to be an issue with my feature selection. I will need to use VIF to see if there are any multicolinearity occuring in my dataset."
   ]
  },
  {
   "cell_type": "markdown",
   "metadata": {},
   "source": [
    "### Removing Multicollinearity"
   ]
  },
  {
   "cell_type": "code",
   "execution_count": 296,
   "metadata": {
    "execution": {
     "iopub.execute_input": "2020-12-20T07:05:34.177812Z",
     "iopub.status.busy": "2020-12-20T07:05:34.177428Z",
     "iopub.status.idle": "2020-12-20T07:05:34.372748Z",
     "shell.execute_reply": "2020-12-20T07:05:34.371853Z",
     "shell.execute_reply.started": "2020-12-20T07:05:34.177782Z"
    }
   },
   "outputs": [
    {
     "data": {
      "text/plain": [
       "Trip Id                              9.021107e+01\n",
       "Subscription Id                      7.494890e+00\n",
       "Bike Id                              1.212079e+00\n",
       "Start Station Id                     1.393182e+00\n",
       "Start Station Latitude               7.876541e+00\n",
       "Start Station Longitude              3.381358e+00\n",
       "Start Station Elevation              4.640996e+00\n",
       "Start Station Capacity               1.259657e+00\n",
       "Start Station Accepts Credit Card    1.766138e+00\n",
       "End Station Id                       1.393118e+00\n",
       "End Station Latitude                 7.494735e+00\n",
       "End Station Longitude                3.394638e+00\n",
       "End Station Elevation                4.285498e+00\n",
       "End Station Capacity                 1.247295e+00\n",
       "End Station Accepts Credit Card      1.744889e+00\n",
       "Is Member                            2.531791e+00\n",
       "Temp (°C)                            2.385659e+00\n",
       "Rel Hum (%)                          1.113722e+00\n",
       "Wind Spd (km/h)                      1.149533e+00\n",
       "Start Time Hour                      1.068283e+00\n",
       "Start Time Day                       1.190401e+00\n",
       "Start Time Month                     1.683668e+01\n",
       "Start Time Year                      6.915011e+01\n",
       "Spring                               3.153022e+00\n",
       "Summer                               2.484946e+00\n",
       "Winter                               1.713159e+00\n",
       "Weekend                              1.228180e+09\n",
       "Rush Hour                            1.203727e+00\n",
       "Holiday                              1.112947e+00\n",
       "Trip Within FSA                      1.299859e+00\n",
       "dtype: float64"
      ]
     },
     "execution_count": 296,
     "metadata": {},
     "output_type": "execute_result"
    }
   ],
   "source": [
    "from statsmodels.stats.outliers_influence import variance_inflation_factor\n",
    "\n",
    "pd.Series([variance_inflation_factor(smX_train_cc.values, i) \n",
    "           for i in range(smX_train_cc.shape[1])],\n",
    "           index=smX_train_cc.columns)"
   ]
  },
  {
   "cell_type": "markdown",
   "metadata": {},
   "source": [
    "Looks like `Weekend` feature is my culprit, therefore I will drop that feature and rerun the VIF to see if there are anymore until there are no substantial drops in VIF"
   ]
  },
  {
   "cell_type": "code",
   "execution_count": 333,
   "metadata": {
    "execution": {
     "iopub.execute_input": "2020-12-20T08:09:09.498090Z",
     "iopub.status.busy": "2020-12-20T08:09:09.497804Z",
     "iopub.status.idle": "2020-12-20T08:09:09.757248Z",
     "shell.execute_reply": "2020-12-20T08:09:09.756186Z",
     "shell.execute_reply.started": "2020-12-20T08:09:09.498063Z"
    }
   },
   "outputs": [
    {
     "data": {
      "text/plain": [
       "Trip Id                              2.927291e+02\n",
       "Subscription Id                      7.949119e+01\n",
       "Bike Id                              7.852574e+00\n",
       "Start Station Id                     4.714977e+03\n",
       "Start Station Latitude               5.664432e+07\n",
       "Start Station Longitude              1.744085e+07\n",
       "Start Station Elevation              1.690650e+02\n",
       "Start Station Capacity               1.869055e+01\n",
       "Start Station Accepts Credit Card    4.302294e+00\n",
       "End Station Id                       4.592344e+03\n",
       "End Station Latitude                 5.490055e+07\n",
       "End Station Longitude                1.672573e+07\n",
       "End Station Elevation                1.644045e+02\n",
       "End Station Capacity                 1.859586e+01\n",
       "End Station Accepts Credit Card      4.350337e+00\n",
       "Is Member                            5.323499e+00\n",
       "Temp (°C)                            1.385293e+01\n",
       "Rel Hum (%)                          3.263995e+01\n",
       "Wind Spd (km/h)                      6.803924e+00\n",
       "Start Time Hour                      1.931998e+01\n",
       "Start Time Day                       4.251163e+00\n",
       "Start Time Month                     3.452589e+01\n",
       "Start Time Year                      7.552751e+07\n",
       "Spring                               3.213635e+00\n",
       "Summer                               4.697079e+00\n",
       "Winter                               1.773595e+00\n",
       "Rush Hour                            1.480767e+00\n",
       "Holiday                              1.123297e+00\n",
       "Trip Within FSA                      1.577345e+00\n",
       "dtype: float64"
      ]
     },
     "execution_count": 333,
     "metadata": {},
     "output_type": "execute_result"
    }
   ],
   "source": [
    "# Drop `Weekend`\n",
    "smX_train_cc.drop(['Weekend'], axis=1, inplace=True)\n",
    "\n",
    "pd.Series([variance_inflation_factor(smX_train_cc.values, i) \n",
    "           for i in range(smX_train_cc.shape[1])],\n",
    "           index=smX_train_cc.columns)"
   ]
  },
  {
   "cell_type": "markdown",
   "metadata": {},
   "source": [
    "Next feature that needs to be dropped looks to be `Start Time Year`"
   ]
  },
  {
   "cell_type": "code",
   "execution_count": 334,
   "metadata": {
    "execution": {
     "iopub.execute_input": "2020-12-20T08:09:10.605822Z",
     "iopub.status.busy": "2020-12-20T08:09:10.605378Z",
     "iopub.status.idle": "2020-12-20T08:09:10.843761Z",
     "shell.execute_reply": "2020-12-20T08:09:10.842876Z",
     "shell.execute_reply.started": "2020-12-20T08:09:10.605789Z"
    }
   },
   "outputs": [
    {
     "data": {
      "text/plain": [
       "Trip Id                              1.610504e+02\n",
       "Subscription Id                      7.928752e+01\n",
       "Bike Id                              7.846397e+00\n",
       "Start Station Id                     4.521368e+03\n",
       "Start Station Latitude               4.760193e+07\n",
       "Start Station Longitude              1.500910e+07\n",
       "Start Station Elevation              1.374799e+02\n",
       "Start Station Capacity               1.868579e+01\n",
       "Start Station Accepts Credit Card    4.300723e+00\n",
       "End Station Id                       4.396595e+03\n",
       "End Station Latitude                 4.723420e+07\n",
       "End Station Longitude                1.480496e+07\n",
       "End Station Elevation                1.380394e+02\n",
       "End Station Capacity                 1.858824e+01\n",
       "End Station Accepts Credit Card      4.345986e+00\n",
       "Is Member                            5.322162e+00\n",
       "Temp (°C)                            1.375330e+01\n",
       "Rel Hum (%)                          3.263758e+01\n",
       "Wind Spd (km/h)                      6.800477e+00\n",
       "Start Time Hour                      1.931875e+01\n",
       "Start Time Day                       4.250871e+00\n",
       "Start Time Month                     2.440164e+01\n",
       "Spring                               3.169395e+00\n",
       "Summer                               4.689845e+00\n",
       "Winter                               1.773403e+00\n",
       "Rush Hour                            1.480318e+00\n",
       "Holiday                              1.123232e+00\n",
       "Trip Within FSA                      1.566625e+00\n",
       "dtype: float64"
      ]
     },
     "execution_count": 334,
     "metadata": {},
     "output_type": "execute_result"
    }
   ],
   "source": [
    "# Drop `Start Time Year`\n",
    "smX_train_cc.drop(['Start Time Year'], axis=1, inplace=True)\n",
    "\n",
    "pd.Series([variance_inflation_factor(smX_train_cc.values, i) \n",
    "           for i in range(smX_train_cc.shape[1])],\n",
    "           index=smX_train_cc.columns)"
   ]
  },
  {
   "cell_type": "code",
   "execution_count": 335,
   "metadata": {
    "execution": {
     "iopub.execute_input": "2020-12-20T08:09:10.924007Z",
     "iopub.status.busy": "2020-12-20T08:09:10.923398Z",
     "iopub.status.idle": "2020-12-20T08:09:11.136696Z",
     "shell.execute_reply": "2020-12-20T08:09:11.133160Z",
     "shell.execute_reply.started": "2020-12-20T08:09:10.923938Z"
    }
   },
   "outputs": [
    {
     "data": {
      "text/plain": [
       "Trip Id                               160.527074\n",
       "Subscription Id                        78.874624\n",
       "Bike Id                                 7.828337\n",
       "Start Station Id                     2840.405610\n",
       "Start Station Elevation                61.316111\n",
       "Start Station Capacity                 18.005676\n",
       "Start Station Accepts Credit Card       4.297890\n",
       "End Station Id                       2814.866340\n",
       "End Station Elevation                  63.116866\n",
       "End Station Capacity                   17.841346\n",
       "End Station Accepts Credit Card         4.340960\n",
       "Is Member                               5.301618\n",
       "Temp (°C)                              13.736869\n",
       "Rel Hum (%)                            32.410477\n",
       "Wind Spd (km/h)                         6.791019\n",
       "Start Time Hour                        19.216219\n",
       "Start Time Day                          4.240134\n",
       "Start Time Month                       24.201262\n",
       "Spring                                  3.146975\n",
       "Summer                                  4.689798\n",
       "Winter                                  1.766344\n",
       "Rush Hour                               1.476444\n",
       "Holiday                                 1.121046\n",
       "Trip Within FSA                         1.541296\n",
       "dtype: float64"
      ]
     },
     "execution_count": 335,
     "metadata": {},
     "output_type": "execute_result"
    }
   ],
   "source": [
    "# Drop `End Station` Info as we are trying to predict if the return will be late \n",
    "# prior to them actually returning the bike\n",
    "smX_train_cc.drop(['Start Station Latitude',\n",
    "                  'Start Station Longitude',\n",
    "                  'End Station Latitude',\n",
    "                  'End Station Longitude'], axis=1, inplace=True)\n",
    "\n",
    "pd.Series([variance_inflation_factor(smX_train_cc.values, i) \n",
    "           for i in range(smX_train_cc.shape[1])],\n",
    "           index=smX_train_cc.columns)"
   ]
  },
  {
   "cell_type": "code",
   "execution_count": 336,
   "metadata": {
    "execution": {
     "iopub.execute_input": "2020-12-20T08:09:14.748051Z",
     "iopub.status.busy": "2020-12-20T08:09:14.747790Z",
     "iopub.status.idle": "2020-12-20T08:09:14.892178Z",
     "shell.execute_reply": "2020-12-20T08:09:14.891110Z",
     "shell.execute_reply.started": "2020-12-20T08:09:14.748026Z"
    }
   },
   "outputs": [
    {
     "data": {
      "text/plain": [
       "Trip Id                              152.790908\n",
       "Subscription Id                       77.507020\n",
       "Bike Id                                7.805305\n",
       "Start Station Elevation               56.934582\n",
       "Start Station Capacity                16.857708\n",
       "Start Station Accepts Credit Card      4.265276\n",
       "End Station Elevation                 58.737326\n",
       "End Station Capacity                  16.645083\n",
       "End Station Accepts Credit Card        4.302090\n",
       "Is Member                              5.297615\n",
       "Temp (°C)                             13.189972\n",
       "Rel Hum (%)                           26.149821\n",
       "Wind Spd (km/h)                        6.291682\n",
       "Start Time Hour                       17.499960\n",
       "Start Time Day                         4.117607\n",
       "Start Time Month                      22.810805\n",
       "Spring                                 2.829294\n",
       "Summer                                 4.613888\n",
       "Winter                                 1.660238\n",
       "Rush Hour                              1.476228\n",
       "Holiday                                1.117153\n",
       "Trip Within FSA                        1.539279\n",
       "dtype: float64"
      ]
     },
     "execution_count": 336,
     "metadata": {},
     "output_type": "execute_result"
    }
   ],
   "source": [
    "# Drop Latitude and Longitude Info\n",
    "smX_train_cc.drop(['Start Station Id',\n",
    "                  'End Station Id'], axis=1, inplace=True)\n",
    "\n",
    "pd.Series([variance_inflation_factor(smX_train_cc.values, i) \n",
    "           for i in range(smX_train_cc.shape[1])],\n",
    "           index=smX_train_cc.columns)"
   ]
  },
  {
   "cell_type": "code",
   "execution_count": 337,
   "metadata": {
    "execution": {
     "iopub.execute_input": "2020-12-20T08:09:17.038870Z",
     "iopub.status.busy": "2020-12-20T08:09:17.038505Z",
     "iopub.status.idle": "2020-12-20T08:09:17.194600Z",
     "shell.execute_reply": "2020-12-20T08:09:17.193738Z",
     "shell.execute_reply.started": "2020-12-20T08:09:17.038800Z"
    }
   },
   "outputs": [
    {
     "data": {
      "text/plain": [
       "Subscription Id                      16.165835\n",
       "Bike Id                               7.555051\n",
       "Start Station Elevation              56.688734\n",
       "Start Station Capacity               16.795961\n",
       "Start Station Accepts Credit Card     4.249431\n",
       "End Station Elevation                58.607797\n",
       "End Station Capacity                 16.618083\n",
       "End Station Accepts Credit Card       4.281654\n",
       "Is Member                             3.396109\n",
       "Temp (°C)                            13.141257\n",
       "Rel Hum (%)                          26.000553\n",
       "Wind Spd (km/h)                       6.274066\n",
       "Start Time Hour                      17.339662\n",
       "Start Time Day                        4.104986\n",
       "Start Time Month                     22.428692\n",
       "Spring                                2.821811\n",
       "Summer                                4.593672\n",
       "Winter                                1.648073\n",
       "Rush Hour                             1.470905\n",
       "Holiday                               1.117125\n",
       "Trip Within FSA                       1.539162\n",
       "dtype: float64"
      ]
     },
     "execution_count": 337,
     "metadata": {},
     "output_type": "execute_result"
    }
   ],
   "source": [
    "# Drop Trip Id\n",
    "smX_train_cc.drop(['Trip Id'], axis=1, inplace=True)\n",
    "\n",
    "pd.Series([variance_inflation_factor(smX_train_cc.values, i) \n",
    "           for i in range(smX_train_cc.shape[1])],\n",
    "           index=smX_train_cc.columns)"
   ]
  },
  {
   "cell_type": "code",
   "execution_count": 338,
   "metadata": {
    "execution": {
     "iopub.execute_input": "2020-12-20T08:09:17.423896Z",
     "iopub.status.busy": "2020-12-20T08:09:17.423618Z",
     "iopub.status.idle": "2020-12-20T08:09:17.548580Z",
     "shell.execute_reply": "2020-12-20T08:09:17.547540Z",
     "shell.execute_reply.started": "2020-12-20T08:09:17.423869Z"
    }
   },
   "outputs": [
    {
     "data": {
      "text/plain": [
       "Subscription Id                      15.867827\n",
       "Bike Id                               7.518143\n",
       "Start Station Capacity               16.290914\n",
       "Start Station Accepts Credit Card     4.219613\n",
       "End Station Capacity                 16.233203\n",
       "End Station Accepts Credit Card       4.258371\n",
       "Is Member                             3.210200\n",
       "Temp (°C)                            13.068653\n",
       "Rel Hum (%)                          21.669702\n",
       "Wind Spd (km/h)                       5.989830\n",
       "Start Time Hour                      16.663240\n",
       "Start Time Day                        4.102153\n",
       "Start Time Month                     21.319777\n",
       "Spring                                2.665931\n",
       "Summer                                4.568570\n",
       "Winter                                1.594408\n",
       "Rush Hour                             1.467653\n",
       "Holiday                               1.117119\n",
       "Trip Within FSA                       1.537823\n",
       "dtype: float64"
      ]
     },
     "execution_count": 338,
     "metadata": {},
     "output_type": "execute_result"
    }
   ],
   "source": [
    "# Drop Start Station Info\n",
    "smX_train_cc.drop(['Start Station Elevation',\n",
    "                   'End Station Elevation'], axis=1, inplace=True)\n",
    "\n",
    "pd.Series([variance_inflation_factor(smX_train_cc.values, i) \n",
    "           for i in range(smX_train_cc.shape[1])],\n",
    "           index=smX_train_cc.columns)"
   ]
  },
  {
   "cell_type": "code",
   "execution_count": 339,
   "metadata": {
    "execution": {
     "iopub.execute_input": "2020-12-20T08:09:20.496275Z",
     "iopub.status.busy": "2020-12-20T08:09:20.496015Z",
     "iopub.status.idle": "2020-12-20T08:09:20.499434Z",
     "shell.execute_reply": "2020-12-20T08:09:20.498626Z",
     "shell.execute_reply.started": "2020-12-20T08:09:20.496249Z"
    }
   },
   "outputs": [],
   "source": [
    "# # Drop `Start Time Month`\n",
    "# smX_train_cc.drop(['Start Time Month'], axis=1, inplace=True)\n",
    "\n",
    "# pd.Series([variance_inflation_factor(smX_train_cc.values, i) \n",
    "#            for i in range(smX_train_cc.shape[1])],\n",
    "#            index=smX_train_cc.columns)"
   ]
  },
  {
   "cell_type": "markdown",
   "metadata": {},
   "source": [
    "I'm satified with the current VIFs and there were no more significant drops after dropping `Start Time Month` as you can see from the results here from the commented out codes above.\n",
    "\n",
    "```\n",
    "Subscription Id                      14.364582\n",
    "Bike Id                               7.475822\n",
    "Start Station Capacity               16.220785\n",
    "Start Station Accepts Credit Card     4.214150\n",
    "End Station Capacity                 16.119733\n",
    "End Station Accepts Credit Card       4.255264\n",
    "Is Member                             3.096410\n",
    "Temp (°C)                            12.841965\n",
    "Rel Hum (%)                          19.465637\n",
    "Wind Spd (km/h)                       5.831568\n",
    "Start Time Hour                      16.407253\n",
    "Start Time Day                        4.090163\n",
    "Spring                                2.096959\n",
    "Summer                                4.384368\n",
    "Winter                                1.305972\n",
    "Rush Hour                             1.465894\n",
    "Holiday                               1.115315\n",
    "Trip Within FSA                       1.537064\n",
    "dtype: float64\n",
    "```\n",
    "First I will need to perform the same feature edits to `smX_test_cc` then I will rerun the model and how it performs with both scaling."
   ]
  },
  {
   "cell_type": "code",
   "execution_count": 340,
   "metadata": {
    "execution": {
     "iopub.execute_input": "2020-12-20T08:09:22.772792Z",
     "iopub.status.busy": "2020-12-20T08:09:22.772361Z",
     "iopub.status.idle": "2020-12-20T08:09:22.778333Z",
     "shell.execute_reply": "2020-12-20T08:09:22.777517Z",
     "shell.execute_reply.started": "2020-12-20T08:09:22.772759Z"
    }
   },
   "outputs": [],
   "source": [
    "# Drop same features as test set.\n",
    "smX_test_cc.drop(['Weekend',\n",
    "                  'Start Time Year',\n",
    "                  'End Station Id',\n",
    "                  'End Station Latitude',\n",
    "                  'End Station Longitude',\n",
    "                  'End Station Elevation',\n",
    "                  'Start Station Latitude',\n",
    "                  'Start Station Longitude',\n",
    "                  'Start Station Id',\n",
    "                  'Start Station Elevation',\n",
    "                  'Trip Id'], axis=1, inplace=True)"
   ]
  },
  {
   "cell_type": "markdown",
   "metadata": {},
   "source": [
    "### Retesting the Model"
   ]
  },
  {
   "cell_type": "code",
   "execution_count": 306,
   "metadata": {
    "execution": {
     "iopub.execute_input": "2020-12-20T07:06:35.191174Z",
     "iopub.status.busy": "2020-12-20T07:06:35.190912Z",
     "iopub.status.idle": "2020-12-20T07:06:35.316957Z",
     "shell.execute_reply": "2020-12-20T07:06:35.316067Z",
     "shell.execute_reply.started": "2020-12-20T07:06:35.191147Z"
    }
   },
   "outputs": [],
   "source": [
    "# Instantiate scaler\n",
    "std_scaler = StandardScaler()\n",
    "mm_scaler = MinMaxScaler()\n",
    "rb_scaler = RobustScaler()\n",
    "\n",
    "# Fit scaler\n",
    "std_scaler = std_scaler.fit(smX_train_cc)\n",
    "mm_scaler = mm_scaler.fit(smX_train_cc)\n",
    "rb_scaler = rb_scaler.fit(smX_train_cc)\n",
    "\n",
    "# Transform data\n",
    "ss_smX_train_cc = std_scaler.transform(smX_train_cc)\n",
    "ss_smX_test_cc = std_scaler.transform(smX_test_cc)\n",
    "mm_smX_train_cc = mm_scaler.transform(smX_train_cc)\n",
    "mm_smX_test_cc = mm_scaler.transform(smX_test_cc)\n",
    "rb_smX_train_cc = rb_scaler.transform(smX_train_cc)\n",
    "rb_smX_test_cc = rb_scaler.transform(smX_test_cc)\n",
    "\n",
    "# Instantiate the model\n",
    "log_model = LogisticRegression()\n",
    "\n",
    "# Fit the model\n",
    "ss_smlog_model_cc = log_model.fit(ss_smX_train_cc, smy_train_cc)\n",
    "mm_smlog_model_cc = log_model.fit(mm_smX_train_cc, smy_train_cc)\n",
    "rb_smlog_model_cc = log_model.fit(rb_smX_train_cc, smy_train_cc)\n",
    "\n",
    "#Predict/Score\n",
    "ss_smtrain_score_cc = ss_smlog_model_cc.score(ss_smX_train_cc,smy_train_cc)\n",
    "ss_smtest_score_cc = ss_smlog_model_cc.score(ss_smX_test_cc,smy_test_cc)\n",
    "mm_smtrain_score_cc = mm_smlog_model_cc.score(mm_smX_train_cc,smy_train_cc)\n",
    "mm_smtest_score_cc = mm_smlog_model_cc.score(mm_smX_test_cc,smy_test_cc)\n",
    "rb_smtrain_score_cc = rb_smlog_model_cc.score(rb_smX_train_cc,smy_train_cc)\n",
    "rb_smtest_score_cc = rb_smlog_model_cc.score(rb_smX_test_cc,smy_test_cc)"
   ]
  },
  {
   "cell_type": "code",
   "execution_count": 307,
   "metadata": {
    "execution": {
     "iopub.execute_input": "2020-12-20T07:06:36.497364Z",
     "iopub.status.busy": "2020-12-20T07:06:36.497104Z",
     "iopub.status.idle": "2020-12-20T07:06:36.503081Z",
     "shell.execute_reply": "2020-12-20T07:06:36.502178Z",
     "shell.execute_reply.started": "2020-12-20T07:06:36.497337Z"
    }
   },
   "outputs": [
    {
     "name": "stdout",
     "output_type": "stream",
     "text": [
      "CCLog Regression w/ Standard Scaling Train Accuracy: 0.92850\n",
      "CCLog Regression w/ Standard Scaling Test Accuracy:  0.93828 \n",
      "\n",
      "------------------------------------------------------------\n",
      "\n",
      "CCLog Regression w/ MinMax Scaling Train Accuracy: 0.79018\n",
      "CCLog Regression w/ MinMax Scaling Test Accuracy:  0.79194 \n",
      "\n",
      "------------------------------------------------------------\n",
      "\n",
      "CCLog Regression w/ Robust Scaling Train Accuracy: 0.94514\n",
      "CCLog Regression w/ Robust Scaling Test Accuracy:  0.95371 \n",
      "\n"
     ]
    }
   ],
   "source": [
    "print(f'CCLog Regression w/ Standard Scaling Train Accuracy: {ss_smtrain_score_cc:.5f}')\n",
    "print(f'CCLog Regression w/ Standard Scaling Test Accuracy:  {ss_smtest_score_cc:.5f}', '\\n')\n",
    "print('------------------------------------------------------------\\n')\n",
    "print(f'CCLog Regression w/ MinMax Scaling Train Accuracy: {mm_smtrain_score_cc:.5f}')\n",
    "print(f'CCLog Regression w/ MinMax Scaling Test Accuracy:  {mm_smtest_score_cc:.5f}', '\\n')\n",
    "print('------------------------------------------------------------\\n')\n",
    "print(f'CCLog Regression w/ Robust Scaling Train Accuracy: {rb_smtrain_score_cc:.5f}')\n",
    "print(f'CCLog Regression w/ Robust Scaling Test Accuracy:  {rb_smtest_score_cc:.5f}', '\\n')"
   ]
  },
  {
   "cell_type": "markdown",
   "metadata": {},
   "source": [
    "Looks like the test and accuracy scores are still very high. Lets see what the confusion matrix and classification report shows."
   ]
  },
  {
   "cell_type": "code",
   "execution_count": 308,
   "metadata": {
    "execution": {
     "iopub.execute_input": "2020-12-20T07:06:37.446818Z",
     "iopub.status.busy": "2020-12-20T07:06:37.446553Z",
     "iopub.status.idle": "2020-12-20T07:06:38.957233Z",
     "shell.execute_reply": "2020-12-20T07:06:38.956397Z",
     "shell.execute_reply.started": "2020-12-20T07:06:37.446792Z"
    }
   },
   "outputs": [
    {
     "data": {
      "image/png": "[encoded data removed]",
      "text/plain": [
       "<Figure size 432x288 with 2 Axes>"
      ]
     },
     "metadata": {
      "needs_background": "light"
     },
     "output_type": "display_data"
    },
    {
     "data": {
      "image/png": "[encoded data removed]",
      "text/plain": [
       "<Figure size 432x288 with 2 Axes>"
      ]
     },
     "metadata": {
      "needs_background": "light"
     },
     "output_type": "display_data"
    },
    {
     "data": {
      "image/png": "[encoded data removed]",
      "text/plain": [
       "<Figure size 432x288 with 2 Axes>"
      ]
     },
     "metadata": {
      "needs_background": "light"
     },
     "output_type": "display_data"
    },
    {
     "data": {
      "image/png": "[encoded data removed]",
      "text/plain": [
       "<Figure size 432x288 with 2 Axes>"
      ]
     },
     "metadata": {
      "needs_background": "light"
     },
     "output_type": "display_data"
    },
    {
     "data": {
      "image/png": "[encoded data removed]",
      "text/plain": [
       "<Figure size 432x288 with 2 Axes>"
      ]
     },
     "metadata": {
      "needs_background": "light"
     },
     "output_type": "display_data"
    },
    {
     "data": {
      "image/png": "[encoded data removed]",
      "text/plain": [
       "<Figure size 432x288 with 2 Axes>"
      ]
     },
     "metadata": {
      "needs_background": "light"
     },
     "output_type": "display_data"
    }
   ],
   "source": [
    "# Saving Prediction Scores\n",
    "ss_smy_train_pred_cc = ss_smlog_model_cc.predict(ss_smX_train_cc)\n",
    "ss_smy_test_pred_cc = ss_smlog_model_cc.predict(ss_smX_test_cc)\n",
    "mm_smy_train_pred_cc = mm_smlog_model_cc.predict(mm_smX_train_cc)\n",
    "mm_smy_test_pred_cc = mm_smlog_model_cc.predict(mm_smX_test_cc)\n",
    "rb_smy_train_pred_cc = rb_smlog_model_cc.predict(rb_smX_train_cc)\n",
    "rb_smy_test_pred_cc = rb_smlog_model_cc.predict(rb_smX_test_cc)\n",
    "\n",
    "# Confusion matrices\n",
    "ss_smtrain_cfmatrix_cc = confusion_matrix(smy_train_cc, ss_smy_train_pred_cc)\n",
    "ss_smtest_cfmatrix_cc = confusion_matrix(smy_test_cc, ss_smy_test_pred_cc)\n",
    "mm_smtrain_cfmatrix_cc = confusion_matrix(smy_train_cc, mm_smy_train_pred_cc)\n",
    "mm_smtest_cfmatrix_cc = confusion_matrix(smy_test_cc, mm_smy_test_pred_cc)\n",
    "rb_smtrain_cfmatrix_cc = confusion_matrix(smy_train_cc, rb_smy_train_pred_cc)\n",
    "rb_smtest_cfmatrix_cc = confusion_matrix(smy_test_cc, rb_smy_test_pred_cc)\n",
    "\n",
    "# Standard Scaling ConfusionMatrixDisplay\n",
    "\n",
    "# Train\n",
    "ConfusionMatrixDisplay(ss_smtrain_cfmatrix_cc).plot()\n",
    "plt.title('Confusion Train Matrix for Log Regression Model w/ ClusterCentroids Downsampling & Standard Scaling')\n",
    "plt.show()\n",
    "\n",
    "# Test\n",
    "ConfusionMatrixDisplay(ss_smtest_cfmatrix_cc).plot()\n",
    "plt.title('Confusion Test Matrix for Log Regression Model w/ ClusterCentroids Downsampling & Standard Scaling')\n",
    "plt.show()\n",
    "\n",
    "# MinMax Scaling ConfusionMatrixDisplay \n",
    "\n",
    "# Train\n",
    "ConfusionMatrixDisplay(mm_smtrain_cfmatrix_cc).plot()\n",
    "plt.title('Confusion Train Matrix for Log Regression Model w/ ClusterCentroids Downsampling & MinMax Scaling')\n",
    "plt.show()\n",
    "\n",
    "# Test\n",
    "ConfusionMatrixDisplay(mm_smtest_cfmatrix_cc).plot()\n",
    "plt.title('Confusion Test Matrix for Log Regression Model w/ ClusterCentroids Downsampling & MinMax Scaling')\n",
    "plt.show()\n",
    "\n",
    "# Robust Scaling ConfusionMatrixDisplay \n",
    "\n",
    "# Train\n",
    "ConfusionMatrixDisplay(rb_smtrain_cfmatrix_cc).plot()\n",
    "plt.title('Confusion Train Matrix for Log Regression Model w/ ClusterCentroids Downsampling & Robust Scaling')\n",
    "plt.show()\n",
    "\n",
    "# Test\n",
    "ConfusionMatrixDisplay(rb_smtest_cfmatrix_cc).plot()\n",
    "plt.title('Confusion Test Matrix for Log Regression Model w/ ClusterCentroids Downsampling & Robust Scaling')\n",
    "plt.show()"
   ]
  },
  {
   "cell_type": "code",
   "execution_count": 309,
   "metadata": {
    "execution": {
     "iopub.execute_input": "2020-12-20T07:06:38.959095Z",
     "iopub.status.busy": "2020-12-20T07:06:38.958860Z",
     "iopub.status.idle": "2020-12-20T07:06:39.019783Z",
     "shell.execute_reply": "2020-12-20T07:06:39.018210Z",
     "shell.execute_reply.started": "2020-12-20T07:06:38.959069Z"
    }
   },
   "outputs": [
    {
     "name": "stdout",
     "output_type": "stream",
     "text": [
      "Classification Report for Test Data w/ ClusterCentroids & Standard Scaling\n",
      "\n",
      "              precision    recall  f1-score   support\n",
      "\n",
      "           0       0.90      0.99      0.94      1005\n",
      "           1       0.99      0.88      0.93      1004\n",
      "\n",
      "    accuracy                           0.94      2009\n",
      "   macro avg       0.94      0.94      0.94      2009\n",
      "weighted avg       0.94      0.94      0.94      2009\n",
      "\n",
      "------------------------------------------------------------\n",
      "\n",
      "Classification Report for Test Data w/ ClusterCentroids & MinMax Scaling \n",
      "\n",
      "              precision    recall  f1-score   support\n",
      "\n",
      "           0       0.99      0.59      0.74      1005\n",
      "           1       0.71      1.00      0.83      1004\n",
      "\n",
      "    accuracy                           0.79      2009\n",
      "   macro avg       0.85      0.79      0.78      2009\n",
      "weighted avg       0.85      0.79      0.78      2009\n",
      "\n",
      "------------------------------------------------------------\n",
      "\n",
      "Classification Report for Test Data w/ ClusterCentroids & Robust Scaling \n",
      "\n",
      "              precision    recall  f1-score   support\n",
      "\n",
      "           0       0.95      0.96      0.95      1005\n",
      "           1       0.96      0.95      0.95      1004\n",
      "\n",
      "    accuracy                           0.95      2009\n",
      "   macro avg       0.95      0.95      0.95      2009\n",
      "weighted avg       0.95      0.95      0.95      2009\n",
      "\n"
     ]
    }
   ],
   "source": [
    "# Classification Reports\n",
    "class_report_ss_smtrain_cc = classification_report(smy_train_cc, ss_smy_train_pred_cc)\n",
    "class_report_ss_smtest_cc = classification_report(smy_test_cc, ss_smy_test_pred_cc)\n",
    "class_report_mm_smtrain_cc = classification_report(smy_train_cc, mm_smy_train_pred_cc)\n",
    "class_report_mm_smtest_cc = classification_report(smy_test_cc, mm_smy_test_pred_cc)\n",
    "class_report_rb_smtrain_cc = classification_report(smy_train_cc, rb_smy_train_pred_cc)\n",
    "class_report_rb_smtest_cc = classification_report(smy_test_cc, rb_smy_test_pred_cc)\n",
    "\n",
    "print('Classification Report for Test Data w/ ClusterCentroids & Standard Scaling\\n')\n",
    "print(class_report_ss_smtest_cc)\n",
    "print('------------------------------------------------------------\\n')\n",
    "print('Classification Report for Test Data w/ ClusterCentroids & MinMax Scaling \\n')\n",
    "print(class_report_mm_smtest_cc)\n",
    "print('------------------------------------------------------------\\n')\n",
    "print('Classification Report for Test Data w/ ClusterCentroids & Robust Scaling \\n')\n",
    "print(class_report_rb_smtest_cc)"
   ]
  },
  {
   "cell_type": "markdown",
   "metadata": {},
   "source": [
    "It still appears that the Robust Scaling is giving us good precision and recall. Now lets see if our feature coefficients look right."
   ]
  },
  {
   "cell_type": "code",
   "execution_count": 310,
   "metadata": {
    "execution": {
     "iopub.execute_input": "2020-12-20T07:06:41.685153Z",
     "iopub.status.busy": "2020-12-20T07:06:41.684897Z",
     "iopub.status.idle": "2020-12-20T07:06:42.129084Z",
     "shell.execute_reply": "2020-12-20T07:06:42.128158Z",
     "shell.execute_reply.started": "2020-12-20T07:06:41.685128Z"
    }
   },
   "outputs": [
    {
     "data": {
      "text/html": [
       "<div>\n",
       "<style scoped>\n",
       "    .dataframe tbody tr th:only-of-type {\n",
       "        vertical-align: middle;\n",
       "    }\n",
       "\n",
       "    .dataframe tbody tr th {\n",
       "        vertical-align: top;\n",
       "    }\n",
       "\n",
       "    .dataframe thead th {\n",
       "        text-align: right;\n",
       "    }\n",
       "</style>\n",
       "<table border=\"1\" class=\"dataframe\">\n",
       "  <thead>\n",
       "    <tr style=\"text-align: right;\">\n",
       "      <th></th>\n",
       "      <th>coefficient</th>\n",
       "      <th>odds_ratio</th>\n",
       "    </tr>\n",
       "  </thead>\n",
       "  <tbody>\n",
       "    <tr>\n",
       "      <th>Trip Within FSA</th>\n",
       "      <td>4.113928</td>\n",
       "      <td>61.186557</td>\n",
       "    </tr>\n",
       "    <tr>\n",
       "      <th>Rush Hour</th>\n",
       "      <td>3.670053</td>\n",
       "      <td>39.253973</td>\n",
       "    </tr>\n",
       "    <tr>\n",
       "      <th>Start Station Accepts Credit Card</th>\n",
       "      <td>2.974649</td>\n",
       "      <td>19.582749</td>\n",
       "    </tr>\n",
       "    <tr>\n",
       "      <th>End Station Accepts Credit Card</th>\n",
       "      <td>2.764362</td>\n",
       "      <td>15.868910</td>\n",
       "    </tr>\n",
       "    <tr>\n",
       "      <th>Spring</th>\n",
       "      <td>1.806344</td>\n",
       "      <td>6.088149</td>\n",
       "    </tr>\n",
       "    <tr>\n",
       "      <th>Holiday</th>\n",
       "      <td>1.545772</td>\n",
       "      <td>4.691594</td>\n",
       "    </tr>\n",
       "    <tr>\n",
       "      <th>Winter</th>\n",
       "      <td>1.349985</td>\n",
       "      <td>3.857368</td>\n",
       "    </tr>\n",
       "    <tr>\n",
       "      <th>Summer</th>\n",
       "      <td>1.286287</td>\n",
       "      <td>3.619321</td>\n",
       "    </tr>\n",
       "    <tr>\n",
       "      <th>Start Time Day</th>\n",
       "      <td>0.813582</td>\n",
       "      <td>2.255975</td>\n",
       "    </tr>\n",
       "    <tr>\n",
       "      <th>Subscription Id</th>\n",
       "      <td>0.600792</td>\n",
       "      <td>1.823562</td>\n",
       "    </tr>\n",
       "    <tr>\n",
       "      <th>Start Time Month</th>\n",
       "      <td>0.429344</td>\n",
       "      <td>1.536250</td>\n",
       "    </tr>\n",
       "    <tr>\n",
       "      <th>Start Time Hour</th>\n",
       "      <td>0.320379</td>\n",
       "      <td>1.377650</td>\n",
       "    </tr>\n",
       "    <tr>\n",
       "      <th>Rel Hum (%)</th>\n",
       "      <td>0.224068</td>\n",
       "      <td>1.251156</td>\n",
       "    </tr>\n",
       "    <tr>\n",
       "      <th>Wind Spd (km/h)</th>\n",
       "      <td>0.079736</td>\n",
       "      <td>1.083001</td>\n",
       "    </tr>\n",
       "    <tr>\n",
       "      <th>End Station Capacity</th>\n",
       "      <td>0.016259</td>\n",
       "      <td>1.016392</td>\n",
       "    </tr>\n",
       "    <tr>\n",
       "      <th>Start Station Capacity</th>\n",
       "      <td>-0.124375</td>\n",
       "      <td>0.883049</td>\n",
       "    </tr>\n",
       "    <tr>\n",
       "      <th>Bike Id</th>\n",
       "      <td>-0.211596</td>\n",
       "      <td>0.809291</td>\n",
       "    </tr>\n",
       "    <tr>\n",
       "      <th>Temp (°C)</th>\n",
       "      <td>-0.300601</td>\n",
       "      <td>0.740373</td>\n",
       "    </tr>\n",
       "    <tr>\n",
       "      <th>Is Member</th>\n",
       "      <td>-2.995395</td>\n",
       "      <td>0.050017</td>\n",
       "    </tr>\n",
       "  </tbody>\n",
       "</table>\n",
       "</div>"
      ],
      "text/plain": [
       "                                   coefficient  odds_ratio\n",
       "Trip Within FSA                       4.113928   61.186557\n",
       "Rush Hour                             3.670053   39.253973\n",
       "Start Station Accepts Credit Card     2.974649   19.582749\n",
       "End Station Accepts Credit Card       2.764362   15.868910\n",
       "Spring                                1.806344    6.088149\n",
       "Holiday                               1.545772    4.691594\n",
       "Winter                                1.349985    3.857368\n",
       "Summer                                1.286287    3.619321\n",
       "Start Time Day                        0.813582    2.255975\n",
       "Subscription Id                       0.600792    1.823562\n",
       "Start Time Month                      0.429344    1.536250\n",
       "Start Time Hour                       0.320379    1.377650\n",
       "Rel Hum (%)                           0.224068    1.251156\n",
       "Wind Spd (km/h)                       0.079736    1.083001\n",
       "End Station Capacity                  0.016259    1.016392\n",
       "Start Station Capacity               -0.124375    0.883049\n",
       "Bike Id                              -0.211596    0.809291\n",
       "Temp (°C)                            -0.300601    0.740373\n",
       "Is Member                            -2.995395    0.050017"
      ]
     },
     "metadata": {},
     "output_type": "display_data"
    },
    {
     "data": {
      "image/png": "[encoded data removed]",
      "text/plain": [
       "<Figure size 1152x720 with 1 Axes>"
      ]
     },
     "metadata": {
      "needs_background": "light"
     },
     "output_type": "display_data"
    }
   ],
   "source": [
    "# Look at coefficients\n",
    "smcc_coefs_odds = pd.DataFrame(data={'coefficient': rb_smlog_model_cc.coef_[0],\n",
    "                               'odds_ratio': np.exp(rb_smlog_model_cc.coef_[0])},\n",
    "                          index=smX_test_cc.columns\n",
    "                         ).sort_values('coefficient', ascending=False)\n",
    "\n",
    "display(smcc_coefs_odds)\n",
    "\n",
    "plt.figure(figsize=(16, 10))\n",
    "# plt.bar(coefs_odds.index, coefs_odds['coefficient'], color='r')\n",
    "sns.barplot(x=smcc_coefs_odds.index, y=smcc_coefs_odds['coefficient'], palette='viridis')\n",
    "plt.xticks(rotation=90)\n",
    "plt.xlabel('Features')\n",
    "plt.ylabel('Regression Coefficients')\n",
    "plt.title('Feature Indicators')\n",
    "sns.despine()\n",
    "plt.tight_layout()\n",
    "plt.show()"
   ]
  },
  {
   "cell_type": "markdown",
   "metadata": {},
   "source": [
    "It looks like even after removing features with a high VIF that the Regression Coefficients are still more than +/- 1 indicating some multicolinearity.\n",
    "\n",
    "Lets take a look at the correlation heatmap and see if we can detect any more multicolinear variables."
   ]
  },
  {
   "cell_type": "code",
   "execution_count": 341,
   "metadata": {
    "execution": {
     "iopub.execute_input": "2020-12-20T08:09:32.105593Z",
     "iopub.status.busy": "2020-12-20T08:09:32.105328Z",
     "iopub.status.idle": "2020-12-20T08:09:36.824208Z",
     "shell.execute_reply": "2020-12-20T08:09:36.823460Z",
     "shell.execute_reply.started": "2020-12-20T08:09:32.105567Z"
    }
   },
   "outputs": [
    {
     "data": {
      "image/png": "[encoded data removed]",
      "text/plain": [
       "<Figure size 1152x720 with 2 Axes>"
      ]
     },
     "metadata": {
      "needs_background": "light"
     },
     "output_type": "display_data"
    }
   ],
   "source": [
    "# Plot correlation heatmap\n",
    "plt.figure(figsize=(16,10))\n",
    "sns.heatmap(smX_train_cc.corr(), cmap= 'viridis', vmax=1, vmin=-1, annot=True)\n",
    "plt.title('Correlation Heatmap for X variables', fontsize= 15)\n",
    "\n",
    "sns.despine()\n",
    "plt.tight_layout()\n",
    "plt.show()"
   ]
  },
  {
   "cell_type": "markdown",
   "metadata": {},
   "source": [
    "## Summary & Next Steps"
   ]
  },
  {
   "cell_type": "markdown",
   "metadata": {},
   "source": [
    "Back to [Table of Contents](#Table-of-Contents)."
   ]
  },
  {
   "cell_type": "markdown",
   "metadata": {},
   "source": [
    "There does not seem to be any features with abnormally high correlation detected in the heatmap therefore I seem to have exhausted all the options that I am able to come up with to decrease the high feature coefficients.\n",
    "\n",
    "What is not shown in the notebook is the many attempts to drop features in order to lower the coefficients to no success. Therefore I will have to be content with my current results.\n",
    "\n",
    "My next steps will be to complete a times series analysis and network analysis in subsequent notebooks. I will also be testing different hyperparameters in my model and research other methods to see if I can take away the multicollinearity in my dataset.\n",
    "\n",
    "To summarize, the current train and test accuracy for my logistic regression model with ClusterCentroid downsampling and robust scaling is 94.5% for the train set and 95.3% for the test set using a subsampled dataset. The F1 score for both positive and negative classes were 0.95 which is exceptionally high. The features that contribute to the high accuracy of the model are `Trip Within FSA`, `Rush Hour` with positive coefficents and `Is Member` with negative coefficient."
   ]
  },
  {
   "cell_type": "markdown",
   "metadata": {},
   "source": [
    "Code below for future use in hyperparameter tuning."
   ]
  },
  {
   "cell_type": "code",
   "execution_count": null,
   "metadata": {
    "collapsed": true,
    "execution": {
     "iopub.execute_input": "2020-12-15T16:08:42.430541Z",
     "iopub.status.busy": "2020-12-15T16:08:42.430286Z",
     "iopub.status.idle": "2020-12-15T16:20:03.292056Z",
     "shell.execute_reply": "2020-12-15T16:20:03.290789Z",
     "shell.execute_reply.started": "2020-12-15T16:08:42.430516Z"
    },
    "jupyter": {
     "outputs_hidden": true
    }
   },
   "outputs": [],
   "source": [
    "# from imblearn.under_sampling import ClusterCentroids\n",
    "\n",
    "# # Instantiate\n",
    "# cc = ClusterCentroids(random_state=616)\n",
    "\n",
    "# # Fit\n",
    "# X_cc_resampled, y_cc_resampled = cc.fit_resample(X, y)\n",
    "\n",
    "# # Display\n",
    "# print('Distribution of dependent variables:\\n')\n",
    "# print(y_cc_resampled.value_counts())\n",
    "# print('\\n----------\\n')\n",
    "# print('Pecentage of the distribution:\\n')\n",
    "# print(y_cc_resampled.value_counts()/(len(y_cc_resampled)))"
   ]
  },
  {
   "cell_type": "code",
   "execution_count": 38,
   "metadata": {
    "execution": {
     "iopub.execute_input": "2020-12-15T15:03:34.735754Z",
     "iopub.status.busy": "2020-12-15T15:03:34.735362Z",
     "iopub.status.idle": "2020-12-15T15:03:34.759170Z",
     "shell.execute_reply": "2020-12-15T15:03:34.757991Z",
     "shell.execute_reply.started": "2020-12-15T15:03:34.735711Z"
    }
   },
   "outputs": [],
   "source": [
    "# # train test split on ClusterCentroids resampled\n",
    "# X_train_cc, X_test_cc, y_train_cc, y_test_cc = train_test_split(X_cc,\n",
    "#                                                                 y_cc,\n",
    "#                                                                 test_size=0.3,\n",
    "#                                                                 stratify=y_cc,\n",
    "#                                                                 random_state=616)"
   ]
  },
  {
   "cell_type": "code",
   "execution_count": 45,
   "metadata": {
    "execution": {
     "iopub.execute_input": "2020-12-15T15:03:34.943495Z",
     "iopub.status.busy": "2020-12-15T15:03:34.943047Z",
     "iopub.status.idle": "2020-12-15T15:03:34.948973Z",
     "shell.execute_reply": "2020-12-15T15:03:34.947900Z",
     "shell.execute_reply.started": "2020-12-15T15:03:34.943446Z"
    }
   },
   "outputs": [],
   "source": [
    "# from sklearn.pipeline import Pipeline\n",
    "# from sklearn.model_selection import GridSearchCV\n",
    "\n",
    "# # Set up pipeline \n",
    "# pipeline = Pipeline([('scale', StandardScaler()),\n",
    "#                     ('model', LogisticRegression())])\n",
    "\n",
    "# # Set up parameter grid\n",
    "# param_grid = [\n",
    "#             {\n",
    "#                 'scale':[RobustScaler(), None],\n",
    "#                 'model':[LogisticRegression()],\n",
    "#                 'model__C': [0.001, 0.01, 0.1, 1, 10, 100, 1000],\n",
    "#                 'decompose__n_components': [1,2,3,4,5]\n",
    "#             },\n",
    "#     {\n",
    "#                 'scale':[RobustScaler(), None],\n",
    "#                 'model':[DecisionTreeClassifier()],\n",
    "#                 'decompose__n_components': [1,2,3,4,5],\n",
    "#                 'model__max_depth': [1,2,3,4,5]\n",
    "#     },\n",
    "#     {\n",
    "#                 'scale':[RobustScaler(), None],\n",
    "#                 'model':[SVC()],\n",
    "#                 'decompose__n_components': [1,2,3,4,5],\n",
    "#                 'model__C': [0.1, 1, 10, 100],\n",
    "#                 'model__kernel': ['linear', 'rbf']\n",
    "#     }\n",
    "    \n",
    "# ]\n",
    "\n",
    "# # Instantiate the grid search\n",
    "# gridsearch = GridSearchCV(pipeline, param_grid, n_jobs=-1, verbose=1)\n",
    "\n",
    "# # Fit the grid search\n",
    "# fittedgrid_cc = gridsearch.fit(X_train_cc, y_train_cc)"
   ]
  },
  {
   "cell_type": "code",
   "execution_count": 47,
   "metadata": {
    "execution": {
     "iopub.execute_input": "2020-12-15T15:03:34.957467Z",
     "iopub.status.busy": "2020-12-15T15:03:34.957141Z",
     "iopub.status.idle": "2020-12-15T15:03:34.962243Z",
     "shell.execute_reply": "2020-12-15T15:03:34.960684Z",
     "shell.execute_reply.started": "2020-12-15T15:03:34.957428Z"
    }
   },
   "outputs": [],
   "source": [
    "# Best estimator object\n",
    "# print('Best Estimator for ClusterCentroids Downsampling\\n')\n",
    "# display(fittedgrid_cc.best_estimator_)"
   ]
  },
  {
   "cell_type": "code",
   "execution_count": 48,
   "metadata": {
    "execution": {
     "iopub.execute_input": "2020-12-15T15:03:34.964475Z",
     "iopub.status.busy": "2020-12-15T15:03:34.964051Z",
     "iopub.status.idle": "2020-12-15T15:03:34.970179Z",
     "shell.execute_reply": "2020-12-15T15:03:34.968938Z",
     "shell.execute_reply.started": "2020-12-15T15:03:34.964431Z"
    }
   },
   "outputs": [],
   "source": [
    "# Best hyperparameters\n",
    "# print('Best Hyperparameter for ClusterCentroids Downsampling\\n')\n",
    "# display(fittedgrid_cc.best_params_)"
   ]
  },
  {
   "cell_type": "code",
   "execution_count": 49,
   "metadata": {
    "execution": {
     "iopub.execute_input": "2020-12-15T15:03:34.972443Z",
     "iopub.status.busy": "2020-12-15T15:03:34.972102Z",
     "iopub.status.idle": "2020-12-15T15:03:34.976533Z",
     "shell.execute_reply": "2020-12-15T15:03:34.975423Z",
     "shell.execute_reply.started": "2020-12-15T15:03:34.972401Z"
    }
   },
   "outputs": [],
   "source": [
    "# Test Score\n",
    "# print('Test score ClusterCentroids Downsampling\\n')\n",
    "# display(fittedgrid_cc.score(X_test_cc, y_test_cc))"
   ]
  }
 ],
 "metadata": {
  "kernelspec": {
   "display_name": "Python [conda env:capstone_env]",
   "language": "python",
   "name": "conda-env-capstone_env-py"
  },
  "language_info": {
   "codemirror_mode": {
    "name": "ipython",
    "version": 3
   },
   "file_extension": ".py",
   "mimetype": "text/x-python",
   "name": "python",
   "nbconvert_exporter": "python",
   "pygments_lexer": "ipython3",
   "version": "3.8.2"
  }
 },
 "nbformat": 4,
 "nbformat_minor": 4
}
